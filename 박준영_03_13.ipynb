{
 "cells": [
  {
   "cell_type": "code",
   "execution_count": 1,
   "id": "06cbe506-0f94-4632-914c-630dc8a8beb6",
   "metadata": {},
   "outputs": [],
   "source": [
    "import pandas as pd\n",
    "import numpy as np\n",
    "import matplotlib.pyplot as plt\n",
    "import seaborn as sns\n",
    "import koreanize_matplotlib\n",
    "import catboost"
   ]
  },
  {
   "cell_type": "code",
   "execution_count": 2,
   "id": "718047f4-9b82-4e41-b844-923b11d43cab",
   "metadata": {},
   "outputs": [],
   "source": [
    "df = pd.read_csv('./train.csv')\n",
    "df_test = pd.read_csv('./test.csv')"
   ]
  },
  {
   "cell_type": "markdown",
   "id": "7d176fa8-a135-41bc-b659-5e8f0bc914a0",
   "metadata": {},
   "source": [
    "# 목차\n",
    "\n",
    "## 1. 전처리\n",
    "\n",
    "* 컬럼 확인\n",
    "* 결측값 확인\n",
    "* FeatureImportance 확인\n",
    "\n",
    "## 2. 모델링\n",
    "\n",
    "* RandomForestRegressor\n",
    "* CatBoostRegressor\n",
    "* PCA"
   ]
  },
  {
   "cell_type": "code",
   "execution_count": 3,
   "id": "32bfc065-36ea-42dc-9843-99511ee2265b",
   "metadata": {},
   "outputs": [
    {
     "data": {
      "text/html": [
       "<div>\n",
       "<style scoped>\n",
       "    .dataframe tbody tr th:only-of-type {\n",
       "        vertical-align: middle;\n",
       "    }\n",
       "\n",
       "    .dataframe tbody tr th {\n",
       "        vertical-align: top;\n",
       "    }\n",
       "\n",
       "    .dataframe thead th {\n",
       "        text-align: right;\n",
       "    }\n",
       "</style>\n",
       "<table border=\"1\" class=\"dataframe\">\n",
       "  <thead>\n",
       "    <tr style=\"text-align: right;\">\n",
       "      <th></th>\n",
       "      <th>sessionID</th>\n",
       "      <th>userID</th>\n",
       "      <th>TARGET</th>\n",
       "      <th>browser</th>\n",
       "      <th>OS</th>\n",
       "      <th>device</th>\n",
       "      <th>new</th>\n",
       "      <th>quality</th>\n",
       "      <th>duration</th>\n",
       "      <th>bounced</th>\n",
       "      <th>transaction</th>\n",
       "      <th>transaction_revenue</th>\n",
       "      <th>continent</th>\n",
       "      <th>subcontinent</th>\n",
       "      <th>country</th>\n",
       "      <th>traffic_source</th>\n",
       "      <th>traffic_medium</th>\n",
       "      <th>keyword</th>\n",
       "      <th>referral_path</th>\n",
       "    </tr>\n",
       "  </thead>\n",
       "  <tbody>\n",
       "    <tr>\n",
       "      <th>0</th>\n",
       "      <td>SESSION_000000</td>\n",
       "      <td>USER_000000</td>\n",
       "      <td>17.0</td>\n",
       "      <td>Chrome</td>\n",
       "      <td>Macintosh</td>\n",
       "      <td>desktop</td>\n",
       "      <td>0</td>\n",
       "      <td>45.0</td>\n",
       "      <td>839.0</td>\n",
       "      <td>0</td>\n",
       "      <td>0.0</td>\n",
       "      <td>0.0</td>\n",
       "      <td>Americas</td>\n",
       "      <td>Northern America</td>\n",
       "      <td>United States</td>\n",
       "      <td>google</td>\n",
       "      <td>organic</td>\n",
       "      <td>Category8</td>\n",
       "      <td>NaN</td>\n",
       "    </tr>\n",
       "    <tr>\n",
       "      <th>1</th>\n",
       "      <td>SESSION_000001</td>\n",
       "      <td>USER_000001</td>\n",
       "      <td>3.0</td>\n",
       "      <td>Chrome</td>\n",
       "      <td>Windows</td>\n",
       "      <td>desktop</td>\n",
       "      <td>1</td>\n",
       "      <td>1.0</td>\n",
       "      <td>39.0</td>\n",
       "      <td>0</td>\n",
       "      <td>0.0</td>\n",
       "      <td>0.0</td>\n",
       "      <td>Europe</td>\n",
       "      <td>Western Europe</td>\n",
       "      <td>Germany</td>\n",
       "      <td>google</td>\n",
       "      <td>organic</td>\n",
       "      <td>Category8</td>\n",
       "      <td>NaN</td>\n",
       "    </tr>\n",
       "    <tr>\n",
       "      <th>2</th>\n",
       "      <td>SESSION_000002</td>\n",
       "      <td>USER_000002</td>\n",
       "      <td>1.0</td>\n",
       "      <td>Samsung Internet</td>\n",
       "      <td>Android</td>\n",
       "      <td>mobile</td>\n",
       "      <td>1</td>\n",
       "      <td>1.0</td>\n",
       "      <td>0.0</td>\n",
       "      <td>1</td>\n",
       "      <td>0.0</td>\n",
       "      <td>0.0</td>\n",
       "      <td>Asia</td>\n",
       "      <td>Southeast Asia</td>\n",
       "      <td>Malaysia</td>\n",
       "      <td>(direct)</td>\n",
       "      <td>(none)</td>\n",
       "      <td>NaN</td>\n",
       "      <td>NaN</td>\n",
       "    </tr>\n",
       "    <tr>\n",
       "      <th>3</th>\n",
       "      <td>SESSION_000003</td>\n",
       "      <td>USER_000003</td>\n",
       "      <td>1.0</td>\n",
       "      <td>Chrome</td>\n",
       "      <td>Macintosh</td>\n",
       "      <td>desktop</td>\n",
       "      <td>1</td>\n",
       "      <td>1.0</td>\n",
       "      <td>0.0</td>\n",
       "      <td>1</td>\n",
       "      <td>0.0</td>\n",
       "      <td>0.0</td>\n",
       "      <td>Americas</td>\n",
       "      <td>Northern America</td>\n",
       "      <td>United States</td>\n",
       "      <td>Partners</td>\n",
       "      <td>affiliate</td>\n",
       "      <td>NaN</td>\n",
       "      <td>NaN</td>\n",
       "    </tr>\n",
       "    <tr>\n",
       "      <th>4</th>\n",
       "      <td>SESSION_000004</td>\n",
       "      <td>USER_000004</td>\n",
       "      <td>1.0</td>\n",
       "      <td>Chrome</td>\n",
       "      <td>iOS</td>\n",
       "      <td>mobile</td>\n",
       "      <td>0</td>\n",
       "      <td>1.0</td>\n",
       "      <td>0.0</td>\n",
       "      <td>1</td>\n",
       "      <td>0.0</td>\n",
       "      <td>0.0</td>\n",
       "      <td>Americas</td>\n",
       "      <td>Northern America</td>\n",
       "      <td>United States</td>\n",
       "      <td>groups.google.com</td>\n",
       "      <td>referral</td>\n",
       "      <td>NaN</td>\n",
       "      <td>Category6_Path_0000</td>\n",
       "    </tr>\n",
       "    <tr>\n",
       "      <th>...</th>\n",
       "      <td>...</td>\n",
       "      <td>...</td>\n",
       "      <td>...</td>\n",
       "      <td>...</td>\n",
       "      <td>...</td>\n",
       "      <td>...</td>\n",
       "      <td>...</td>\n",
       "      <td>...</td>\n",
       "      <td>...</td>\n",
       "      <td>...</td>\n",
       "      <td>...</td>\n",
       "      <td>...</td>\n",
       "      <td>...</td>\n",
       "      <td>...</td>\n",
       "      <td>...</td>\n",
       "      <td>...</td>\n",
       "      <td>...</td>\n",
       "      <td>...</td>\n",
       "      <td>...</td>\n",
       "    </tr>\n",
       "    <tr>\n",
       "      <th>252284</th>\n",
       "      <td>SESSION_252284</td>\n",
       "      <td>USER_206021</td>\n",
       "      <td>1.0</td>\n",
       "      <td>Chrome</td>\n",
       "      <td>Android</td>\n",
       "      <td>mobile</td>\n",
       "      <td>1</td>\n",
       "      <td>1.0</td>\n",
       "      <td>0.0</td>\n",
       "      <td>1</td>\n",
       "      <td>0.0</td>\n",
       "      <td>0.0</td>\n",
       "      <td>Europe</td>\n",
       "      <td>Northern Europe</td>\n",
       "      <td>United Kingdom</td>\n",
       "      <td>youtube.com</td>\n",
       "      <td>referral</td>\n",
       "      <td>NaN</td>\n",
       "      <td>Category5_Path_0032</td>\n",
       "    </tr>\n",
       "    <tr>\n",
       "      <th>252285</th>\n",
       "      <td>SESSION_252285</td>\n",
       "      <td>USER_206022</td>\n",
       "      <td>1.0</td>\n",
       "      <td>Chrome</td>\n",
       "      <td>Macintosh</td>\n",
       "      <td>desktop</td>\n",
       "      <td>0</td>\n",
       "      <td>1.0</td>\n",
       "      <td>0.0</td>\n",
       "      <td>1</td>\n",
       "      <td>0.0</td>\n",
       "      <td>0.0</td>\n",
       "      <td>Americas</td>\n",
       "      <td>Northern America</td>\n",
       "      <td>United States</td>\n",
       "      <td>google</td>\n",
       "      <td>organic</td>\n",
       "      <td>Category8</td>\n",
       "      <td>NaN</td>\n",
       "    </tr>\n",
       "    <tr>\n",
       "      <th>252286</th>\n",
       "      <td>SESSION_252286</td>\n",
       "      <td>USER_164240</td>\n",
       "      <td>5.0</td>\n",
       "      <td>Chrome</td>\n",
       "      <td>Macintosh</td>\n",
       "      <td>desktop</td>\n",
       "      <td>0</td>\n",
       "      <td>2.0</td>\n",
       "      <td>69.0</td>\n",
       "      <td>0</td>\n",
       "      <td>0.0</td>\n",
       "      <td>0.0</td>\n",
       "      <td>Americas</td>\n",
       "      <td>Northern America</td>\n",
       "      <td>United States</td>\n",
       "      <td>(direct)</td>\n",
       "      <td>(none)</td>\n",
       "      <td>NaN</td>\n",
       "      <td>Category1</td>\n",
       "    </tr>\n",
       "    <tr>\n",
       "      <th>252287</th>\n",
       "      <td>SESSION_252287</td>\n",
       "      <td>USER_206023</td>\n",
       "      <td>1.0</td>\n",
       "      <td>Android Webview</td>\n",
       "      <td>Android</td>\n",
       "      <td>mobile</td>\n",
       "      <td>1</td>\n",
       "      <td>1.0</td>\n",
       "      <td>28.0</td>\n",
       "      <td>0</td>\n",
       "      <td>0.0</td>\n",
       "      <td>0.0</td>\n",
       "      <td>Africa</td>\n",
       "      <td>Northern Africa</td>\n",
       "      <td>Egypt</td>\n",
       "      <td>youtube.com</td>\n",
       "      <td>referral</td>\n",
       "      <td>NaN</td>\n",
       "      <td>Category2_Path_0018</td>\n",
       "    </tr>\n",
       "    <tr>\n",
       "      <th>252288</th>\n",
       "      <td>SESSION_252288</td>\n",
       "      <td>USER_161023</td>\n",
       "      <td>6.0</td>\n",
       "      <td>Chrome</td>\n",
       "      <td>Macintosh</td>\n",
       "      <td>desktop</td>\n",
       "      <td>0</td>\n",
       "      <td>5.0</td>\n",
       "      <td>77.0</td>\n",
       "      <td>0</td>\n",
       "      <td>0.0</td>\n",
       "      <td>0.0</td>\n",
       "      <td>Americas</td>\n",
       "      <td>Northern America</td>\n",
       "      <td>United States</td>\n",
       "      <td>(direct)</td>\n",
       "      <td>(none)</td>\n",
       "      <td>NaN</td>\n",
       "      <td>Category1</td>\n",
       "    </tr>\n",
       "  </tbody>\n",
       "</table>\n",
       "<p>252289 rows × 19 columns</p>\n",
       "</div>"
      ],
      "text/plain": [
       "             sessionID       userID  TARGET           browser         OS  \\\n",
       "0       SESSION_000000  USER_000000    17.0            Chrome  Macintosh   \n",
       "1       SESSION_000001  USER_000001     3.0            Chrome    Windows   \n",
       "2       SESSION_000002  USER_000002     1.0  Samsung Internet    Android   \n",
       "3       SESSION_000003  USER_000003     1.0            Chrome  Macintosh   \n",
       "4       SESSION_000004  USER_000004     1.0            Chrome        iOS   \n",
       "...                ...          ...     ...               ...        ...   \n",
       "252284  SESSION_252284  USER_206021     1.0            Chrome    Android   \n",
       "252285  SESSION_252285  USER_206022     1.0            Chrome  Macintosh   \n",
       "252286  SESSION_252286  USER_164240     5.0            Chrome  Macintosh   \n",
       "252287  SESSION_252287  USER_206023     1.0   Android Webview    Android   \n",
       "252288  SESSION_252288  USER_161023     6.0            Chrome  Macintosh   \n",
       "\n",
       "         device  new  quality  duration  bounced  transaction  \\\n",
       "0       desktop    0     45.0     839.0        0          0.0   \n",
       "1       desktop    1      1.0      39.0        0          0.0   \n",
       "2        mobile    1      1.0       0.0        1          0.0   \n",
       "3       desktop    1      1.0       0.0        1          0.0   \n",
       "4        mobile    0      1.0       0.0        1          0.0   \n",
       "...         ...  ...      ...       ...      ...          ...   \n",
       "252284   mobile    1      1.0       0.0        1          0.0   \n",
       "252285  desktop    0      1.0       0.0        1          0.0   \n",
       "252286  desktop    0      2.0      69.0        0          0.0   \n",
       "252287   mobile    1      1.0      28.0        0          0.0   \n",
       "252288  desktop    0      5.0      77.0        0          0.0   \n",
       "\n",
       "        transaction_revenue continent      subcontinent         country  \\\n",
       "0                       0.0  Americas  Northern America   United States   \n",
       "1                       0.0    Europe    Western Europe         Germany   \n",
       "2                       0.0      Asia    Southeast Asia        Malaysia   \n",
       "3                       0.0  Americas  Northern America   United States   \n",
       "4                       0.0  Americas  Northern America   United States   \n",
       "...                     ...       ...               ...             ...   \n",
       "252284                  0.0    Europe   Northern Europe  United Kingdom   \n",
       "252285                  0.0  Americas  Northern America   United States   \n",
       "252286                  0.0  Americas  Northern America   United States   \n",
       "252287                  0.0    Africa   Northern Africa           Egypt   \n",
       "252288                  0.0  Americas  Northern America   United States   \n",
       "\n",
       "           traffic_source traffic_medium    keyword        referral_path  \n",
       "0                  google        organic  Category8                  NaN  \n",
       "1                  google        organic  Category8                  NaN  \n",
       "2                (direct)         (none)        NaN                  NaN  \n",
       "3                Partners      affiliate        NaN                  NaN  \n",
       "4       groups.google.com       referral        NaN  Category6_Path_0000  \n",
       "...                   ...            ...        ...                  ...  \n",
       "252284        youtube.com       referral        NaN  Category5_Path_0032  \n",
       "252285             google        organic  Category8                  NaN  \n",
       "252286           (direct)         (none)        NaN            Category1  \n",
       "252287        youtube.com       referral        NaN  Category2_Path_0018  \n",
       "252288           (direct)         (none)        NaN            Category1  \n",
       "\n",
       "[252289 rows x 19 columns]"
      ]
     },
     "execution_count": 3,
     "metadata": {},
     "output_type": "execute_result"
    }
   ],
   "source": [
    "df"
   ]
  },
  {
   "cell_type": "markdown",
   "id": "c8b5bff3-4615-4028-9e7b-391cfbdbb6c2",
   "metadata": {
    "scrolled": true
   },
   "source": [
    "sessionID : 세션 ID\n",
    "\n",
    "userID : 사용자 ID\n",
    "\n",
    "TARGET : 세션에서 발생한 총 조회수\n",
    "\n",
    "browser : 사용된 브라우저\n",
    "\n",
    "OS : 사용된 기기의 운영체제\n",
    "\n",
    "device : 사용된 기기\n",
    "\n",
    "new : 첫 방문 여부 (0: 첫 방문 아님, 1: 첫 방문)\n",
    "\n",
    "quality : 세션의 질 (거래 성사를 기준으로 측정된 값, 범위: 1~100)\n",
    "\n",
    "duration : 총 세션 시간 (단위: 초)\n",
    "\n",
    "bounced : 이탈 여부 (0: 이탈하지 않음, 1: 이탈함)\n",
    "\n",
    "transaction : 세션 내에서 발생의 거래의 수\n",
    "\n",
    "transaction_revenue : 총 거래 수익\n",
    "\n",
    "continent : 세션이 발생한 대륙\n",
    "\n",
    "subcontinent : 세션이 발생한 하위 대륙\n",
    "\n",
    "country : 세션이 발생한 국가\n",
    "\n",
    "traffic_source : 트래픽이 발생한 소스\n",
    "\n",
    "traffic_medium : 트래픽 소스의 매체\n",
    "\n",
    "keyword : 트래픽 소스의 키워드, 일반적으로 traffic_medium이 organic, cpc인 경우에 설정\n",
    "\n",
    "referral_path : traffic_medium이 referral인 경우 설정되는 경로"
   ]
  },
  {
   "cell_type": "markdown",
   "id": "6bcf027a-68a8-487c-873f-b1bcbbadc4c3",
   "metadata": {},
   "source": [
    "## 컬럼값 확인"
   ]
  },
  {
   "cell_type": "code",
   "execution_count": 4,
   "id": "30917213-9fb0-41ae-9a47-3d6e54c10abe",
   "metadata": {},
   "outputs": [
    {
     "name": "stdout",
     "output_type": "stream",
     "text": [
      "<class 'pandas.core.frame.DataFrame'>\n",
      "RangeIndex: 252289 entries, 0 to 252288\n",
      "Data columns (total 19 columns):\n",
      " #   Column               Non-Null Count   Dtype  \n",
      "---  ------               --------------   -----  \n",
      " 0   sessionID            252289 non-null  object \n",
      " 1   userID               252289 non-null  object \n",
      " 2   TARGET               252289 non-null  float64\n",
      " 3   browser              252289 non-null  object \n",
      " 4   OS                   252289 non-null  object \n",
      " 5   device               252289 non-null  object \n",
      " 6   new                  252289 non-null  int64  \n",
      " 7   quality              252289 non-null  float64\n",
      " 8   duration             252289 non-null  float64\n",
      " 9   bounced              252289 non-null  int64  \n",
      " 10  transaction          252289 non-null  float64\n",
      " 11  transaction_revenue  252289 non-null  float64\n",
      " 12  continent            252289 non-null  object \n",
      " 13  subcontinent         252289 non-null  object \n",
      " 14  country              252289 non-null  object \n",
      " 15  traffic_source       252289 non-null  object \n",
      " 16  traffic_medium       252289 non-null  object \n",
      " 17  keyword              114614 non-null  object \n",
      " 18  referral_path        91182 non-null   object \n",
      "dtypes: float64(5), int64(2), object(12)\n",
      "memory usage: 36.6+ MB\n"
     ]
    }
   ],
   "source": [
    "df.info()"
   ]
  },
  {
   "cell_type": "code",
   "execution_count": 5,
   "id": "6d88bb4c-02b8-4219-9b6b-ffe5309b19e2",
   "metadata": {},
   "outputs": [
    {
     "name": "stdout",
     "output_type": "stream",
     "text": [
      "sessionID                   0\n",
      "userID                      0\n",
      "TARGET                      0\n",
      "browser                     0\n",
      "OS                          0\n",
      "device                      0\n",
      "new                         0\n",
      "quality                     0\n",
      "duration                    0\n",
      "bounced                     0\n",
      "transaction                 0\n",
      "transaction_revenue         0\n",
      "continent                   0\n",
      "subcontinent                0\n",
      "country                     0\n",
      "traffic_source              0\n",
      "traffic_medium              0\n",
      "keyword                137675\n",
      "referral_path          161107\n",
      "dtype: int64\n",
      "sessionID                  0\n",
      "userID                     0\n",
      "browser                    0\n",
      "OS                         0\n",
      "device                     0\n",
      "new                        0\n",
      "quality                    0\n",
      "duration                   0\n",
      "bounced                    0\n",
      "transaction                0\n",
      "transaction_revenue        0\n",
      "continent                  0\n",
      "subcontinent               0\n",
      "country                    0\n",
      "traffic_source             0\n",
      "traffic_medium             0\n",
      "keyword                43070\n",
      "referral_path          53891\n",
      "dtype: int64\n"
     ]
    }
   ],
   "source": [
    "print(df.isna().sum(), df_test.isna().sum(), sep='\\n')"
   ]
  },
  {
   "cell_type": "code",
   "execution_count": 6,
   "id": "d4bb7f4f-889c-4e99-85e7-9f6261246a0b",
   "metadata": {},
   "outputs": [
    {
     "data": {
      "text/html": [
       "<div>\n",
       "<style scoped>\n",
       "    .dataframe tbody tr th:only-of-type {\n",
       "        vertical-align: middle;\n",
       "    }\n",
       "\n",
       "    .dataframe tbody tr th {\n",
       "        vertical-align: top;\n",
       "    }\n",
       "\n",
       "    .dataframe thead th {\n",
       "        text-align: right;\n",
       "    }\n",
       "</style>\n",
       "<table border=\"1\" class=\"dataframe\">\n",
       "  <thead>\n",
       "    <tr style=\"text-align: right;\">\n",
       "      <th></th>\n",
       "      <th>TARGET</th>\n",
       "      <th>new</th>\n",
       "      <th>quality</th>\n",
       "      <th>duration</th>\n",
       "      <th>bounced</th>\n",
       "      <th>transaction</th>\n",
       "      <th>transaction_revenue</th>\n",
       "    </tr>\n",
       "  </thead>\n",
       "  <tbody>\n",
       "    <tr>\n",
       "      <th>count</th>\n",
       "      <td>252289.000000</td>\n",
       "      <td>252289.000000</td>\n",
       "      <td>252289.000000</td>\n",
       "      <td>252289.000000</td>\n",
       "      <td>252289.000000</td>\n",
       "      <td>252289.000000</td>\n",
       "      <td>2.522890e+05</td>\n",
       "    </tr>\n",
       "    <tr>\n",
       "      <th>mean</th>\n",
       "      <td>3.592626</td>\n",
       "      <td>0.751955</td>\n",
       "      <td>3.816805</td>\n",
       "      <td>113.104253</td>\n",
       "      <td>0.493672</td>\n",
       "      <td>0.009033</td>\n",
       "      <td>9.061248e+05</td>\n",
       "    </tr>\n",
       "    <tr>\n",
       "      <th>std</th>\n",
       "      <td>5.509465</td>\n",
       "      <td>0.431879</td>\n",
       "      <td>11.091028</td>\n",
       "      <td>330.876019</td>\n",
       "      <td>0.499961</td>\n",
       "      <td>0.100938</td>\n",
       "      <td>2.127689e+07</td>\n",
       "    </tr>\n",
       "    <tr>\n",
       "      <th>min</th>\n",
       "      <td>1.000000</td>\n",
       "      <td>0.000000</td>\n",
       "      <td>1.000000</td>\n",
       "      <td>0.000000</td>\n",
       "      <td>0.000000</td>\n",
       "      <td>0.000000</td>\n",
       "      <td>0.000000e+00</td>\n",
       "    </tr>\n",
       "    <tr>\n",
       "      <th>25%</th>\n",
       "      <td>1.000000</td>\n",
       "      <td>1.000000</td>\n",
       "      <td>1.000000</td>\n",
       "      <td>0.000000</td>\n",
       "      <td>0.000000</td>\n",
       "      <td>0.000000</td>\n",
       "      <td>0.000000e+00</td>\n",
       "    </tr>\n",
       "    <tr>\n",
       "      <th>50%</th>\n",
       "      <td>2.000000</td>\n",
       "      <td>1.000000</td>\n",
       "      <td>1.000000</td>\n",
       "      <td>3.000000</td>\n",
       "      <td>0.000000</td>\n",
       "      <td>0.000000</td>\n",
       "      <td>0.000000e+00</td>\n",
       "    </tr>\n",
       "    <tr>\n",
       "      <th>75%</th>\n",
       "      <td>4.000000</td>\n",
       "      <td>1.000000</td>\n",
       "      <td>1.000000</td>\n",
       "      <td>71.000000</td>\n",
       "      <td>1.000000</td>\n",
       "      <td>0.000000</td>\n",
       "      <td>0.000000e+00</td>\n",
       "    </tr>\n",
       "    <tr>\n",
       "      <th>max</th>\n",
       "      <td>386.000000</td>\n",
       "      <td>1.000000</td>\n",
       "      <td>98.000000</td>\n",
       "      <td>11186.000000</td>\n",
       "      <td>1.000000</td>\n",
       "      <td>12.000000</td>\n",
       "      <td>3.325712e+09</td>\n",
       "    </tr>\n",
       "  </tbody>\n",
       "</table>\n",
       "</div>"
      ],
      "text/plain": [
       "              TARGET            new        quality       duration  \\\n",
       "count  252289.000000  252289.000000  252289.000000  252289.000000   \n",
       "mean        3.592626       0.751955       3.816805     113.104253   \n",
       "std         5.509465       0.431879      11.091028     330.876019   \n",
       "min         1.000000       0.000000       1.000000       0.000000   \n",
       "25%         1.000000       1.000000       1.000000       0.000000   \n",
       "50%         2.000000       1.000000       1.000000       3.000000   \n",
       "75%         4.000000       1.000000       1.000000      71.000000   \n",
       "max       386.000000       1.000000      98.000000   11186.000000   \n",
       "\n",
       "             bounced    transaction  transaction_revenue  \n",
       "count  252289.000000  252289.000000         2.522890e+05  \n",
       "mean        0.493672       0.009033         9.061248e+05  \n",
       "std         0.499961       0.100938         2.127689e+07  \n",
       "min         0.000000       0.000000         0.000000e+00  \n",
       "25%         0.000000       0.000000         0.000000e+00  \n",
       "50%         0.000000       0.000000         0.000000e+00  \n",
       "75%         1.000000       0.000000         0.000000e+00  \n",
       "max         1.000000      12.000000         3.325712e+09  "
      ]
     },
     "execution_count": 6,
     "metadata": {},
     "output_type": "execute_result"
    }
   ],
   "source": [
    "df.describe()"
   ]
  },
  {
   "cell_type": "code",
   "execution_count": 7,
   "id": "a59d2ae5-9831-47c5-8a1f-8182e29d7e2a",
   "metadata": {},
   "outputs": [
    {
     "data": {
      "text/plain": [
       "browser\n",
       "Chrome                                                  174395\n",
       "Safari                                                   35689\n",
       "Android Webview                                          13855\n",
       "Firefox                                                   8436\n",
       "Internet Explorer                                         4573\n",
       "                                                         ...  \n",
       "eosutpkiahjzvdgcwxlmyfqbrn                                   1\n",
       ";__CT_JOB_ID__:76fd1acb-e365-43c0-b967-908bcf5d5b59;         1\n",
       "wvsmagudcqeytijorlhxnfzkbp                                   1\n",
       "efkaxnbyohqtspzlvcwrjmigdu                                   1\n",
       "NokiaC7-00                                                   1\n",
       "Name: count, Length: 70, dtype: int64"
      ]
     },
     "execution_count": 7,
     "metadata": {},
     "output_type": "execute_result"
    }
   ],
   "source": [
    "df['browser'].value_counts()"
   ]
  },
  {
   "cell_type": "code",
   "execution_count": 8,
   "id": "dacc2dbc-f979-4e3e-9956-cf55142b65b4",
   "metadata": {},
   "outputs": [
    {
     "name": "stdout",
     "output_type": "stream",
     "text": [
      "Browser: Chrome, Count: 174395\n",
      "Browser: Safari, Count: 35689\n",
      "Browser: Android Webview, Count: 13855\n",
      "Browser: Firefox, Count: 8436\n",
      "Browser: Internet Explorer, Count: 4573\n",
      "Browser: Edge, Count: 3702\n",
      "Browser: Samsung Internet, Count: 3077\n",
      "Browser: Opera Mini, Count: 3041\n",
      "Browser: Safari (in-app), Count: 1995\n",
      "Browser: Opera, Count: 1331\n",
      "Browser: UC Browser, Count: 901\n",
      "Browser: YaBrowser, Count: 402\n",
      "Browser: Amazon Silk, Count: 257\n",
      "Browser: Coc Coc, Count: 206\n",
      "Browser: Mozilla Compatible Agent, Count: 124\n",
      "Browser: Android Browser, Count: 110\n",
      "Browser: Puffin, Count: 55\n",
      "Browser: MRCHROME, Count: 15\n",
      "Browser: Nokia Browser, Count: 13\n",
      "Browser: BlackBerry, Count: 13\n",
      "Browser: Maxthon, Count: 11\n",
      "Browser: Playstation Vita Browser, Count: 9\n",
      "Browser: Nintendo Browser, Count: 7\n",
      "Browser: DESKTOP, Count: 5\n",
      "Browser: Iron, Count: 4\n",
      "Browser: SeaMonkey, Count: 4\n",
      "Browser: Konqueror, Count: 3\n",
      "Browser: Browser, Count: 3\n",
      "Browser: Mozilla, Count: 3\n",
      "Browser: osee2unifiedRelease, Count: 3\n",
      "Browser: +Simple Browser, Count: 3\n",
      "Browser: SAMSUNG-SM-B355E Opera, Count: 2\n",
      "Browser: YE, Count: 2\n",
      "Browser: Amazon.com, Count: 2\n",
      "Browser: Apple-iPhone7C2, Count: 2\n",
      "Browser: Seznam, Count: 2\n",
      "Browser: bsfnwveckhgpdoyjxmizruqtla, Count: 1\n",
      "Browser: ;__CT_JOB_ID__:a80e8e16-6e98-455b-885a-a4dd40f3d344;, Count: 1\n",
      "Browser: ;__CT_JOB_ID__:4333777f-bb0c-4a18-935e-df5658dbce2d;, Count: 1\n",
      "Browser: ;__CT_JOB_ID__:2547db0b-ec43-452a-a0d4-ff42b7dc7907;, Count: 1\n",
      "Browser: ;__CT_JOB_ID__:2e0eca60-83ab-482d-bb81-343d113254fb;, Count: 1\n",
      "Browser: ;__CT_JOB_ID__:a7ed0808-e70c-4b19-b1a3-1018bbb7dc7f;, Count: 1\n",
      "Browser: ;__CT_JOB_ID__:85da5736-a78e-45a9-837e-f5a53e5cd725;, Count: 1\n",
      "Browser: ;__CT_JOB_ID__:a24a8978-e5e8-4dc9-af66-c4ed89ea25d7;, Count: 1\n",
      "Browser: ;__CT_JOB_ID__:89e59554-ad41-4e94-957b-f12bd012530c;, Count: 1\n",
      "Browser: Netscape, Count: 1\n",
      "Browser: Lunascape, Count: 1\n",
      "Browser: ;__CT_JOB_ID__:0b39e7ca-1431-42e3-ba1f-9d8951a65840;, Count: 1\n",
      "Browser: ;__CT_JOB_ID__:6e9dcf2f-f58f-4938-91e3-77e00868177b;, Count: 1\n",
      "Browser: starmaker, Count: 1\n",
      "Browser: ;__CT_JOB_ID__:97909e28-4228-4b55-8ad5-cc791f2b583c;, Count: 1\n",
      "Browser: ;__CT_JOB_ID__:0a075729-93a5-43d0-9638-4cbd41d5f5a5;, Count: 1\n",
      "Browser: ;__CT_JOB_ID__:58e2ecba-7666-4a10-b498-8216457ce472;, Count: 1\n",
      "Browser: ;__CT_JOB_ID__:dd6177aa-1baa-4007-9b38-b7cab4f7611c;, Count: 1\n",
      "Browser: ;__CT_JOB_ID__:a4f837b8-8d78-4c42-ba9a-d870cf1a4a7e;, Count: 1\n",
      "Browser: ;__CT_JOB_ID__:d14534ff-e2fc-4692-92aa-e34508f1c418;, Count: 1\n",
      "Browser: ;__CT_JOB_ID__:fe02e46f-b6ae-41f1-8563-3b40bbb623a9;, Count: 1\n",
      "Browser: rpfanjzoxyemsgbtichqkudwlv, Count: 1\n",
      "Browser: ohukwejvqmdtibfrzpycgxanls, Count: 1\n",
      "Browser: kqebrzuwmiycxdvtoljnhsfpga, Count: 1\n",
      "Browser: dkagwlhmfqxercuozpnbvtsiyj, Count: 1\n",
      "Browser: ;__CT_JOB_ID__:7e575295-571e-4e82-9254-7f2c8bbb9183;, Count: 1\n",
      "Browser: cajrnbtvqwfkolzyxushpdgime, Count: 1\n",
      "Browser: fspmihbxzowgnuctrqykjlvade, Count: 1\n",
      "Browser: cnwmpegudakrqzljtvfxohbysi, Count: 1\n",
      "Browser: eosutpkiahjzvdgcwxlmyfqbrn, Count: 1\n",
      "Browser: ;__CT_JOB_ID__:76fd1acb-e365-43c0-b967-908bcf5d5b59;, Count: 1\n",
      "Browser: wvsmagudcqeytijorlhxnfzkbp, Count: 1\n",
      "Browser: efkaxnbyohqtspzlvcwrjmigdu, Count: 1\n",
      "Browser: NokiaC7-00, Count: 1\n"
     ]
    }
   ],
   "source": [
    "# 브라우저 종류 확인\n",
    "for browser_name, count in df['browser'].value_counts().items():\n",
    "    print(f'Browser: {browser_name}, Count: {count}')"
   ]
  },
  {
   "cell_type": "code",
   "execution_count": 9,
   "id": "cf56c1b5-336b-42cb-8354-39b795ca7bd8",
   "metadata": {},
   "outputs": [],
   "source": [
    "# Nokia, Mozilla, Opera, 등의 분할되어 있는 브라우저들 통합하기\n",
    "def browser_total(x):\n",
    "    if 'Nokia' in x:\n",
    "        return 'Nokia'\n",
    "    if 'Opera' in x:\n",
    "        return 'Opera'\n",
    "    if 'Mozilla' in x:\n",
    "        return 'Mozilla'\n",
    "    if 'Chrome' in x or 'CHROME' in x:\n",
    "        return 'Chrome'\n",
    "    if 'Safari' in x:\n",
    "        return 'Safari'\n",
    "    if 'BlackBerry' in x:\n",
    "        return 'BlackBerry'\n",
    "    if len(x) > 20:\n",
    "        return 'etc'\n",
    "    else:\n",
    "        return x"
   ]
  },
  {
   "cell_type": "code",
   "execution_count": 10,
   "id": "fe57bce4-7a02-41f0-930d-26c49f77c613",
   "metadata": {},
   "outputs": [],
   "source": [
    "df['browser'] = df['browser'].apply(lambda x: browser_total(x))"
   ]
  },
  {
   "cell_type": "code",
   "execution_count": 11,
   "id": "c7b24a72-8211-42a3-9bd1-d221489bb5d4",
   "metadata": {},
   "outputs": [
    {
     "data": {
      "text/plain": [
       "browser\n",
       "Chrome                 174410\n",
       "Safari                  37684\n",
       "Android Webview         13855\n",
       "Firefox                  8436\n",
       "Internet Explorer        4573\n",
       "Opera                    4374\n",
       "Edge                     3702\n",
       "Samsung Internet         3077\n",
       "UC Browser                901\n",
       "YaBrowser                 402\n",
       "Amazon Silk               257\n",
       "Coc Coc                   206\n",
       "Mozilla                   127\n",
       "Android Browser           110\n",
       "Puffin                     55\n",
       "etc                        39\n",
       "Nokia                      14\n",
       "BlackBerry                 13\n",
       "Maxthon                    11\n",
       "Nintendo Browser            7\n",
       "DESKTOP                     5\n",
       "Iron                        4\n",
       "SeaMonkey                   4\n",
       "osee2unifiedRelease         3\n",
       "+Simple Browser             3\n",
       "Browser                     3\n",
       "Konqueror                   3\n",
       "Apple-iPhone7C2             2\n",
       "Amazon.com                  2\n",
       "YE                          2\n",
       "Seznam                      2\n",
       "Netscape                    1\n",
       "Lunascape                   1\n",
       "starmaker                   1\n",
       "Name: count, dtype: int64"
      ]
     },
     "execution_count": 11,
     "metadata": {},
     "output_type": "execute_result"
    }
   ],
   "source": [
    "df['browser'].value_counts()"
   ]
  },
  {
   "cell_type": "code",
   "execution_count": 12,
   "id": "23e8616b-b2c8-483b-9dbb-13c53fc1518c",
   "metadata": {},
   "outputs": [
    {
     "data": {
      "text/plain": [
       "19"
      ]
     },
     "execution_count": 12,
     "metadata": {},
     "output_type": "execute_result"
    }
   ],
   "source": [
    "# 10개 미만의 broswer은 삭제하도록 한다\n",
    "browser_counts = df['browser'].value_counts()\n",
    "\n",
    "# 빈도수가 10개 이하인 값을 필터링하여 DataFrame 수정\n",
    "df = df[df['browser'].isin(browser_counts[browser_counts > 10].index)]\n",
    "df['browser'].value_counts()\n",
    "df['browser'].nunique()"
   ]
  },
  {
   "cell_type": "code",
   "execution_count": 13,
   "id": "b7b74613-825b-4a6d-9e20-763e7f89e732",
   "metadata": {},
   "outputs": [],
   "source": [
    "df_test2 = df_test.copy()\n",
    "df2 = df.copy()\n",
    "df_test = df_test.drop(['sessionID', 'userID'], axis=1)\n",
    "df = df.drop(['sessionID', 'userID'], axis=1)"
   ]
  },
  {
   "cell_type": "code",
   "execution_count": 14,
   "id": "f54a6595-b135-45d0-b6f2-5c930b8ef91a",
   "metadata": {},
   "outputs": [
    {
     "data": {
      "text/plain": [
       "count    252246.000000\n",
       "mean          3.816643\n",
       "std          11.090797\n",
       "min           1.000000\n",
       "25%           1.000000\n",
       "50%           1.000000\n",
       "75%           1.000000\n",
       "max          98.000000\n",
       "Name: quality, dtype: float64"
      ]
     },
     "execution_count": 14,
     "metadata": {},
     "output_type": "execute_result"
    }
   ],
   "source": [
    "df['quality'].describe()"
   ]
  },
  {
   "cell_type": "code",
   "execution_count": 15,
   "id": "b798f4ac-a1df-4c54-ad0e-29c76907ed2f",
   "metadata": {},
   "outputs": [
    {
     "name": "stdout",
     "output_type": "stream",
     "text": [
      "<class 'pandas.core.frame.DataFrame'>\n",
      "RangeIndex: 79786 entries, 0 to 79785\n",
      "Data columns (total 16 columns):\n",
      " #   Column               Non-Null Count  Dtype  \n",
      "---  ------               --------------  -----  \n",
      " 0   browser              79786 non-null  object \n",
      " 1   OS                   79786 non-null  object \n",
      " 2   device               79786 non-null  object \n",
      " 3   new                  79786 non-null  int64  \n",
      " 4   quality              79786 non-null  float64\n",
      " 5   duration             79786 non-null  float64\n",
      " 6   bounced              79786 non-null  int64  \n",
      " 7   transaction          79786 non-null  float64\n",
      " 8   transaction_revenue  79786 non-null  float64\n",
      " 9   continent            79786 non-null  object \n",
      " 10  subcontinent         79786 non-null  object \n",
      " 11  country              79786 non-null  object \n",
      " 12  traffic_source       79786 non-null  object \n",
      " 13  traffic_medium       79786 non-null  object \n",
      " 14  keyword              36716 non-null  object \n",
      " 15  referral_path        25895 non-null  object \n",
      "dtypes: float64(4), int64(2), object(10)\n",
      "memory usage: 9.7+ MB\n",
      "<class 'pandas.core.frame.DataFrame'>\n",
      "Index: 252246 entries, 0 to 252288\n",
      "Data columns (total 17 columns):\n",
      " #   Column               Non-Null Count   Dtype  \n",
      "---  ------               --------------   -----  \n",
      " 0   TARGET               252246 non-null  float64\n",
      " 1   browser              252246 non-null  object \n",
      " 2   OS                   252246 non-null  object \n",
      " 3   device               252246 non-null  object \n",
      " 4   new                  252246 non-null  int64  \n",
      " 5   quality              252246 non-null  float64\n",
      " 6   duration             252246 non-null  float64\n",
      " 7   bounced              252246 non-null  int64  \n",
      " 8   transaction          252246 non-null  float64\n",
      " 9   transaction_revenue  252246 non-null  float64\n",
      " 10  continent            252246 non-null  object \n",
      " 11  subcontinent         252246 non-null  object \n",
      " 12  country              252246 non-null  object \n",
      " 13  traffic_source       252246 non-null  object \n",
      " 14  traffic_medium       252246 non-null  object \n",
      " 15  keyword              114613 non-null  object \n",
      " 16  referral_path        91158 non-null   object \n",
      "dtypes: float64(5), int64(2), object(10)\n",
      "memory usage: 34.6+ MB\n"
     ]
    }
   ],
   "source": [
    "df_test.info()\n",
    "df.info()"
   ]
  },
  {
   "cell_type": "code",
   "execution_count": 16,
   "id": "61946c34-f7b5-4005-9e9a-5da8b122b46e",
   "metadata": {},
   "outputs": [
    {
     "data": {
      "text/plain": [
       "count    252246.000000\n",
       "mean          3.592731\n",
       "std           5.509765\n",
       "min           1.000000\n",
       "25%           1.000000\n",
       "50%           2.000000\n",
       "75%           4.000000\n",
       "max         386.000000\n",
       "Name: TARGET, dtype: float64"
      ]
     },
     "execution_count": 16,
     "metadata": {},
     "output_type": "execute_result"
    }
   ],
   "source": [
    "df['TARGET'].describe()"
   ]
  },
  {
   "cell_type": "code",
   "execution_count": 17,
   "id": "25f99724-f79e-42e9-bd32-a23da1a69060",
   "metadata": {},
   "outputs": [
    {
     "name": "stdout",
     "output_type": "stream",
     "text": [
      "browser\n",
      "Amazon Silk          2.859922\n",
      "Android Browser      1.927273\n",
      "Android Webview      2.328329\n",
      "BlackBerry           1.384615\n",
      "Chrome               3.944355\n",
      "Coc Coc              3.199029\n",
      "Edge                 2.851162\n",
      "Firefox              3.137624\n",
      "Internet Explorer    2.475836\n",
      "Maxthon              2.272727\n",
      "Mozilla              2.889764\n",
      "Nokia                1.928571\n",
      "Opera                2.322359\n",
      "Puffin               3.618182\n",
      "Safari               3.051242\n",
      "Samsung Internet     2.403315\n",
      "UC Browser           1.698113\n",
      "YaBrowser            3.323383\n",
      "etc                  1.743590\n",
      "Name: TARGET, dtype: float64\n"
     ]
    }
   ],
   "source": [
    "result = df.groupby('browser')['TARGET'].mean()\n",
    "print(result)"
   ]
  },
  {
   "cell_type": "code",
   "execution_count": 18,
   "id": "eadb6ad6-a1ba-4c2a-92d2-6af7c493d29e",
   "metadata": {},
   "outputs": [
    {
     "data": {
      "image/png": "[encoded data removed]",
      "text/plain": [
       "<Figure size 640x480 with 1 Axes>"
      ]
     },
     "metadata": {},
     "output_type": "display_data"
    }
   ],
   "source": [
    "result.plot(kind='bar', xlabel='Browser', ylabel='TARGET 평균', title='브라우저별 평균')\n",
    "plt.show()"
   ]
  },
  {
   "cell_type": "code",
   "execution_count": 19,
   "id": "736c4c61-fd6c-4c8b-9834-16e6f402258d",
   "metadata": {},
   "outputs": [
    {
     "name": "stdout",
     "output_type": "stream",
     "text": [
      "TARGET의 가짓수: 117\n",
      "browser의 가짓수: 19\n",
      "OS의 가짓수: 19\n",
      "device의 가짓수: 3\n",
      "new의 가짓수: 2\n",
      "quality의 가짓수: 98\n",
      "duration의 가짓수: 2972\n",
      "bounced의 가짓수: 2\n",
      "transaction의 가짓수: 8\n",
      "transaction_revenue의 가짓수: 1218\n",
      "continent의 가짓수: 6\n",
      "subcontinent의 가짓수: 23\n",
      "country의 가짓수: 205\n",
      "traffic_source의 가짓수: 168\n",
      "traffic_medium의 가짓수: 7\n",
      "keyword의 가짓수: 623\n",
      "referral_path의 가짓수: 1578\n"
     ]
    }
   ],
   "source": [
    "for each in df:\n",
    "    print(f'{each}의 가짓수:', df[each].nunique())"
   ]
  },
  {
   "cell_type": "code",
   "execution_count": 20,
   "id": "20cc7563-0b48-4b72-994f-c68cfacd3d0e",
   "metadata": {},
   "outputs": [
    {
     "data": {
      "text/html": [
       "<div>\n",
       "<style scoped>\n",
       "    .dataframe tbody tr th:only-of-type {\n",
       "        vertical-align: middle;\n",
       "    }\n",
       "\n",
       "    .dataframe tbody tr th {\n",
       "        vertical-align: top;\n",
       "    }\n",
       "\n",
       "    .dataframe thead th {\n",
       "        text-align: right;\n",
       "    }\n",
       "</style>\n",
       "<table border=\"1\" class=\"dataframe\">\n",
       "  <thead>\n",
       "    <tr style=\"text-align: right;\">\n",
       "      <th></th>\n",
       "      <th>TARGET</th>\n",
       "      <th>new</th>\n",
       "      <th>quality</th>\n",
       "      <th>duration</th>\n",
       "      <th>bounced</th>\n",
       "      <th>transaction</th>\n",
       "      <th>transaction_revenue</th>\n",
       "    </tr>\n",
       "  </thead>\n",
       "  <tbody>\n",
       "    <tr>\n",
       "      <th>count</th>\n",
       "      <td>252246.000000</td>\n",
       "      <td>252246.000000</td>\n",
       "      <td>252246.000000</td>\n",
       "      <td>252246.000000</td>\n",
       "      <td>252246.000000</td>\n",
       "      <td>252246.000000</td>\n",
       "      <td>2.522460e+05</td>\n",
       "    </tr>\n",
       "    <tr>\n",
       "      <th>mean</th>\n",
       "      <td>3.592731</td>\n",
       "      <td>0.751945</td>\n",
       "      <td>3.816643</td>\n",
       "      <td>113.096081</td>\n",
       "      <td>0.493657</td>\n",
       "      <td>0.009035</td>\n",
       "      <td>9.062793e+05</td>\n",
       "    </tr>\n",
       "    <tr>\n",
       "      <th>std</th>\n",
       "      <td>5.509765</td>\n",
       "      <td>0.431885</td>\n",
       "      <td>11.090797</td>\n",
       "      <td>330.858974</td>\n",
       "      <td>0.499961</td>\n",
       "      <td>0.100946</td>\n",
       "      <td>2.127870e+07</td>\n",
       "    </tr>\n",
       "    <tr>\n",
       "      <th>min</th>\n",
       "      <td>1.000000</td>\n",
       "      <td>0.000000</td>\n",
       "      <td>1.000000</td>\n",
       "      <td>0.000000</td>\n",
       "      <td>0.000000</td>\n",
       "      <td>0.000000</td>\n",
       "      <td>0.000000e+00</td>\n",
       "    </tr>\n",
       "    <tr>\n",
       "      <th>25%</th>\n",
       "      <td>1.000000</td>\n",
       "      <td>1.000000</td>\n",
       "      <td>1.000000</td>\n",
       "      <td>0.000000</td>\n",
       "      <td>0.000000</td>\n",
       "      <td>0.000000</td>\n",
       "      <td>0.000000e+00</td>\n",
       "    </tr>\n",
       "    <tr>\n",
       "      <th>50%</th>\n",
       "      <td>2.000000</td>\n",
       "      <td>1.000000</td>\n",
       "      <td>1.000000</td>\n",
       "      <td>3.000000</td>\n",
       "      <td>0.000000</td>\n",
       "      <td>0.000000</td>\n",
       "      <td>0.000000e+00</td>\n",
       "    </tr>\n",
       "    <tr>\n",
       "      <th>75%</th>\n",
       "      <td>4.000000</td>\n",
       "      <td>1.000000</td>\n",
       "      <td>1.000000</td>\n",
       "      <td>71.000000</td>\n",
       "      <td>1.000000</td>\n",
       "      <td>0.000000</td>\n",
       "      <td>0.000000e+00</td>\n",
       "    </tr>\n",
       "    <tr>\n",
       "      <th>max</th>\n",
       "      <td>386.000000</td>\n",
       "      <td>1.000000</td>\n",
       "      <td>98.000000</td>\n",
       "      <td>11186.000000</td>\n",
       "      <td>1.000000</td>\n",
       "      <td>12.000000</td>\n",
       "      <td>3.325712e+09</td>\n",
       "    </tr>\n",
       "  </tbody>\n",
       "</table>\n",
       "</div>"
      ],
      "text/plain": [
       "              TARGET            new        quality       duration  \\\n",
       "count  252246.000000  252246.000000  252246.000000  252246.000000   \n",
       "mean        3.592731       0.751945       3.816643     113.096081   \n",
       "std         5.509765       0.431885      11.090797     330.858974   \n",
       "min         1.000000       0.000000       1.000000       0.000000   \n",
       "25%         1.000000       1.000000       1.000000       0.000000   \n",
       "50%         2.000000       1.000000       1.000000       3.000000   \n",
       "75%         4.000000       1.000000       1.000000      71.000000   \n",
       "max       386.000000       1.000000      98.000000   11186.000000   \n",
       "\n",
       "             bounced    transaction  transaction_revenue  \n",
       "count  252246.000000  252246.000000         2.522460e+05  \n",
       "mean        0.493657       0.009035         9.062793e+05  \n",
       "std         0.499961       0.100946         2.127870e+07  \n",
       "min         0.000000       0.000000         0.000000e+00  \n",
       "25%         0.000000       0.000000         0.000000e+00  \n",
       "50%         0.000000       0.000000         0.000000e+00  \n",
       "75%         1.000000       0.000000         0.000000e+00  \n",
       "max         1.000000      12.000000         3.325712e+09  "
      ]
     },
     "execution_count": 20,
     "metadata": {},
     "output_type": "execute_result"
    }
   ],
   "source": [
    "df.describe()"
   ]
  },
  {
   "cell_type": "code",
   "execution_count": 21,
   "id": "c7835706-e927-411e-8716-b41b3cf4fb27",
   "metadata": {},
   "outputs": [
    {
     "data": {
      "text/plain": [
       "TARGET                      0\n",
       "browser                     0\n",
       "OS                          0\n",
       "device                      0\n",
       "new                         0\n",
       "quality                     0\n",
       "duration                    0\n",
       "bounced                     0\n",
       "transaction                 0\n",
       "transaction_revenue         0\n",
       "continent                   0\n",
       "subcontinent                0\n",
       "country                     0\n",
       "traffic_source              0\n",
       "traffic_medium              0\n",
       "keyword                137633\n",
       "referral_path          161088\n",
       "dtype: int64"
      ]
     },
     "execution_count": 21,
     "metadata": {},
     "output_type": "execute_result"
    }
   ],
   "source": [
    "df.isna().sum()"
   ]
  },
  {
   "cell_type": "code",
   "execution_count": 22,
   "id": "c11dbdeb-b5e5-4009-b3b0-fcceb2e6fe30",
   "metadata": {},
   "outputs": [
    {
     "data": {
      "text/plain": [
       "traffic_medium\n",
       "organic      107369\n",
       "referral      70024\n",
       "(none)        59006\n",
       "cpc            9978\n",
       "affiliate      5362\n",
       "cpm             501\n",
       "(not set)         6\n",
       "Name: count, dtype: int64"
      ]
     },
     "execution_count": 22,
     "metadata": {},
     "output_type": "execute_result"
    }
   ],
   "source": [
    "df['traffic_medium'].value_counts()"
   ]
  },
  {
   "cell_type": "code",
   "execution_count": 23,
   "id": "21dda457-64ca-4faa-9506-08e8d19067e7",
   "metadata": {},
   "outputs": [
    {
     "data": {
      "text/plain": [
       "TARGET                      0\n",
       "browser                     0\n",
       "OS                          0\n",
       "device                      0\n",
       "new                         0\n",
       "quality                     0\n",
       "duration                    0\n",
       "bounced                     0\n",
       "transaction                 0\n",
       "transaction_revenue         0\n",
       "continent                   0\n",
       "subcontinent                0\n",
       "country                     0\n",
       "traffic_source              0\n",
       "traffic_medium              0\n",
       "keyword                  2685\n",
       "referral_path          107369\n",
       "dtype: int64"
      ]
     },
     "execution_count": 23,
     "metadata": {},
     "output_type": "execute_result"
    }
   ],
   "source": [
    "df[df['traffic_medium'] == 'organic'].isna().sum()"
   ]
  },
  {
   "cell_type": "code",
   "execution_count": 24,
   "id": "56eddaf7-7f8c-4729-baf1-de3646051fba",
   "metadata": {},
   "outputs": [
    {
     "data": {
      "text/plain": [
       "TARGET                      0\n",
       "browser                     0\n",
       "OS                          0\n",
       "device                      0\n",
       "new                         0\n",
       "quality                     0\n",
       "duration                    0\n",
       "bounced                     0\n",
       "transaction                 0\n",
       "transaction_revenue         0\n",
       "continent                   0\n",
       "subcontinent                0\n",
       "country                     0\n",
       "traffic_source              0\n",
       "traffic_medium              0\n",
       "keyword                134948\n",
       "referral_path           53719\n",
       "dtype: int64"
      ]
     },
     "execution_count": 24,
     "metadata": {},
     "output_type": "execute_result"
    }
   ],
   "source": [
    "df[df['traffic_medium'] != 'organic'].isna().sum()"
   ]
  },
  {
   "cell_type": "code",
   "execution_count": 25,
   "id": "8faac4d2-0dc2-4ac7-922c-273929744c26",
   "metadata": {},
   "outputs": [
    {
     "data": {
      "text/plain": [
       "TARGET                     0\n",
       "browser                    0\n",
       "OS                         0\n",
       "device                     0\n",
       "new                        0\n",
       "quality                    0\n",
       "duration                   0\n",
       "bounced                    0\n",
       "transaction                0\n",
       "transaction_revenue        0\n",
       "continent                  0\n",
       "subcontinent               0\n",
       "country                    0\n",
       "traffic_source             0\n",
       "traffic_medium             0\n",
       "keyword                70024\n",
       "referral_path              0\n",
       "dtype: int64"
      ]
     },
     "execution_count": 25,
     "metadata": {},
     "output_type": "execute_result"
    }
   ],
   "source": [
    "df[df['traffic_medium'] == 'referral'].isna().sum()"
   ]
  },
  {
   "cell_type": "code",
   "execution_count": 26,
   "id": "619aeb0d-8fd9-4b2a-8c70-9db904c9ea75",
   "metadata": {},
   "outputs": [
    {
     "data": {
      "text/plain": [
       "referral_path\n",
       "Category1               18686\n",
       "Category3_Path_0013      7218\n",
       "Category2_Path_0018      3985\n",
       "Category6_Path_0008      3232\n",
       "Category7_Path_0001      2984\n",
       "                        ...  \n",
       "Category2_Path_1096         1\n",
       "Category11_Path_1089        1\n",
       "Category11_Path_1088        1\n",
       "Category4_Path_1086         1\n",
       "Category6_Path_1576         1\n",
       "Name: count, Length: 1578, dtype: int64"
      ]
     },
     "execution_count": 26,
     "metadata": {},
     "output_type": "execute_result"
    }
   ],
   "source": [
    "df['referral_path'].value_counts()"
   ]
  },
  {
   "cell_type": "code",
   "execution_count": 27,
   "id": "31d0f246-4a50-4326-a6e0-d689d83c2978",
   "metadata": {},
   "outputs": [
    {
     "data": {
      "text/plain": [
       "keyword\n",
       "Category8                103583\n",
       "Category9                  3488\n",
       "Category11                 1931\n",
       "Category10                 1147\n",
       "Category6_Keyword_003       634\n",
       "                          ...  \n",
       "Category2_Keyword_273         1\n",
       "Category1_Keyword_271         1\n",
       "Category3_Keyword_270         1\n",
       "Category4_Keyword_269         1\n",
       "Category4_Keyword_617         1\n",
       "Name: count, Length: 623, dtype: int64"
      ]
     },
     "execution_count": 27,
     "metadata": {},
     "output_type": "execute_result"
    }
   ],
   "source": [
    "df['keyword'].value_counts()"
   ]
  },
  {
   "cell_type": "code",
   "execution_count": 28,
   "id": "a1f1200c-c8d6-4170-8a63-9670c675cd18",
   "metadata": {},
   "outputs": [],
   "source": [
    "df.loc[df['traffic_medium'] == 'referral', 'referral_path'] = 1\n",
    "\n",
    "# 'traffic_medium'가 'referral'이 아닌 행의 'referral_path' 값을 0으로 설정\n",
    "df.loc[df['traffic_medium'] != 'referral', 'referral_path'] = 0"
   ]
  },
  {
   "cell_type": "code",
   "execution_count": 29,
   "id": "e08622c3-8b2c-4a6c-b028-6543e29857e9",
   "metadata": {},
   "outputs": [],
   "source": [
    "df_test.loc[df_test['traffic_medium'] == 'referral', 'referral_path'] = 1\n",
    "\n",
    "# 'traffic_medium'가 'referral'이 아닌 행의 'referral_path' 값을 0으로 설정\n",
    "df_test.loc[df_test['traffic_medium'] != 'referral', 'referral_path'] = 0"
   ]
  },
  {
   "cell_type": "code",
   "execution_count": 30,
   "id": "fac4d744-8527-47dc-8f93-3ed07bcd9cde",
   "metadata": {},
   "outputs": [
    {
     "data": {
      "text/plain": [
       "referral_path\n",
       "0    182222\n",
       "1     70024\n",
       "Name: count, dtype: int64"
      ]
     },
     "execution_count": 30,
     "metadata": {},
     "output_type": "execute_result"
    }
   ],
   "source": [
    "df['referral_path'].value_counts()"
   ]
  },
  {
   "cell_type": "code",
   "execution_count": 31,
   "id": "2874e22e-74a5-450e-91e2-a6b505da4bf4",
   "metadata": {},
   "outputs": [
    {
     "data": {
      "text/plain": [
       "TARGET                      0\n",
       "browser                     0\n",
       "OS                          0\n",
       "device                      0\n",
       "new                         0\n",
       "quality                     0\n",
       "duration                    0\n",
       "bounced                     0\n",
       "transaction                 0\n",
       "transaction_revenue         0\n",
       "continent                   0\n",
       "subcontinent                0\n",
       "country                     0\n",
       "traffic_source              0\n",
       "traffic_medium              0\n",
       "keyword                137633\n",
       "referral_path               0\n",
       "dtype: int64"
      ]
     },
     "execution_count": 31,
     "metadata": {},
     "output_type": "execute_result"
    }
   ],
   "source": [
    "df.isna().sum()"
   ]
  },
  {
   "cell_type": "code",
   "execution_count": 32,
   "id": "20b32dd4-8b50-4b39-be9a-b989a1f59602",
   "metadata": {},
   "outputs": [],
   "source": [
    "df.loc[df['traffic_medium'] == 'referral', 'referral_path'] = 1\n",
    "\n",
    "# 'traffic_medium'가 'referral'이 아닌 행의 'referral_path' 값을 0으로 설정\n",
    "df.loc[df['traffic_medium'] != 'referral', 'referral_path'] = 0"
   ]
  },
  {
   "cell_type": "code",
   "execution_count": 33,
   "id": "43956e0d-ed9e-4476-9a60-3ac58155cf1d",
   "metadata": {},
   "outputs": [],
   "source": [
    "df_test.loc[df_test['traffic_medium'] == 'referral', 'referral_path'] = 1\n",
    "\n",
    "# 'traffic_medium'가 'referral'이 아닌 행의 'referral_path' 값을 0으로 설정\n",
    "df_test.loc[df_test['traffic_medium'] != 'referral', 'referral_path'] = 0"
   ]
  },
  {
   "cell_type": "code",
   "execution_count": 34,
   "id": "495f7148-7642-4569-a046-055584cc9c6c",
   "metadata": {},
   "outputs": [],
   "source": [
    "df.loc[~df['traffic_medium'].isin(['organic', 'cpc']), 'keyword'] = 0"
   ]
  },
  {
   "cell_type": "code",
   "execution_count": 35,
   "id": "070cbd98-ee13-4af3-bd78-23220b15d321",
   "metadata": {},
   "outputs": [],
   "source": [
    "df_test.loc[~df_test['traffic_medium'].isin(['organic', 'cpc']), 'keyword'] = 0"
   ]
  },
  {
   "cell_type": "code",
   "execution_count": 36,
   "id": "74e62895-0f06-44e8-b8e1-7cfce9752d16",
   "metadata": {},
   "outputs": [
    {
     "data": {
      "text/plain": [
       "0                0\n",
       "1        Category8\n",
       "2                0\n",
       "3        Category8\n",
       "4                0\n",
       "           ...    \n",
       "79781            0\n",
       "79782    Category8\n",
       "79783    Category8\n",
       "79784    Category8\n",
       "79785    Category8\n",
       "Name: keyword, Length: 79786, dtype: object"
      ]
     },
     "execution_count": 36,
     "metadata": {},
     "output_type": "execute_result"
    }
   ],
   "source": [
    "df_test['keyword'].apply(lambda x: 0 if x == 'nan' else x)"
   ]
  },
  {
   "cell_type": "code",
   "execution_count": 37,
   "id": "14b7bc6d-fe7d-41dd-9d27-7b38c82ba417",
   "metadata": {},
   "outputs": [
    {
     "data": {
      "text/plain": [
       "0         Category8\n",
       "1         Category8\n",
       "2                 0\n",
       "3                 0\n",
       "4                 0\n",
       "            ...    \n",
       "252284            0\n",
       "252285    Category8\n",
       "252286            0\n",
       "252287            0\n",
       "252288            0\n",
       "Name: keyword, Length: 252246, dtype: object"
      ]
     },
     "execution_count": 37,
     "metadata": {},
     "output_type": "execute_result"
    }
   ],
   "source": [
    "df['keyword'].apply(lambda x: 0 if x == 'nan' else x)"
   ]
  },
  {
   "cell_type": "code",
   "execution_count": 38,
   "id": "0d2cfc0a-cedc-457e-9e64-f377efb5e998",
   "metadata": {},
   "outputs": [
    {
     "name": "stderr",
     "output_type": "stream",
     "text": [
      "C:\\Users\\SSAFY\\AppData\\Local\\Temp\\ipykernel_8676\\4231983114.py:1: FutureWarning: Downcasting object dtype arrays on .fillna, .ffill, .bfill is deprecated and will change in a future version. Call result.infer_objects(copy=False) instead. To opt-in to the future behavior, set `pd.set_option('future.no_silent_downcasting', True)`\n",
      "  df.fillna(0, inplace=True)\n"
     ]
    }
   ],
   "source": [
    "df.fillna(0, inplace=True)"
   ]
  },
  {
   "cell_type": "code",
   "execution_count": 39,
   "id": "ddb907b2-5da0-42f7-b204-e9f5eaac12fd",
   "metadata": {},
   "outputs": [
    {
     "name": "stderr",
     "output_type": "stream",
     "text": [
      "C:\\Users\\SSAFY\\AppData\\Local\\Temp\\ipykernel_8676\\2298550610.py:1: FutureWarning: Downcasting object dtype arrays on .fillna, .ffill, .bfill is deprecated and will change in a future version. Call result.infer_objects(copy=False) instead. To opt-in to the future behavior, set `pd.set_option('future.no_silent_downcasting', True)`\n",
      "  df_test.fillna(0, inplace=True)\n"
     ]
    }
   ],
   "source": [
    "df_test.fillna(0, inplace=True)"
   ]
  },
  {
   "cell_type": "code",
   "execution_count": 40,
   "id": "7de58bbd-e3a8-43e6-9f2d-931a30a2adab",
   "metadata": {},
   "outputs": [
    {
     "name": "stdout",
     "output_type": "stream",
     "text": [
      "<class 'pandas.core.frame.DataFrame'>\n",
      "Index: 252246 entries, 0 to 252288\n",
      "Data columns (total 17 columns):\n",
      " #   Column               Non-Null Count   Dtype  \n",
      "---  ------               --------------   -----  \n",
      " 0   TARGET               252246 non-null  float64\n",
      " 1   browser              252246 non-null  object \n",
      " 2   OS                   252246 non-null  object \n",
      " 3   device               252246 non-null  object \n",
      " 4   new                  252246 non-null  int64  \n",
      " 5   quality              252246 non-null  float64\n",
      " 6   duration             252246 non-null  float64\n",
      " 7   bounced              252246 non-null  int64  \n",
      " 8   transaction          252246 non-null  float64\n",
      " 9   transaction_revenue  252246 non-null  float64\n",
      " 10  continent            252246 non-null  object \n",
      " 11  subcontinent         252246 non-null  object \n",
      " 12  country              252246 non-null  object \n",
      " 13  traffic_source       252246 non-null  object \n",
      " 14  traffic_medium       252246 non-null  object \n",
      " 15  keyword              252246 non-null  object \n",
      " 16  referral_path        252246 non-null  int64  \n",
      "dtypes: float64(5), int64(3), object(9)\n",
      "memory usage: 34.6+ MB\n"
     ]
    }
   ],
   "source": [
    "df.info()"
   ]
  },
  {
   "cell_type": "code",
   "execution_count": 41,
   "id": "eebb79e1-350c-48d6-8d37-d8c25d7db195",
   "metadata": {},
   "outputs": [
    {
     "data": {
      "text/plain": [
       "subcontinent\n",
       "(not set)             3.252976\n",
       "Australasia           3.242105\n",
       "Caribbean             3.184534\n",
       "Central America       3.045227\n",
       "Central Asia          3.158915\n",
       "Eastern Africa        2.274809\n",
       "Eastern Asia          3.205517\n",
       "Eastern Europe        2.869735\n",
       "Melanesia             3.000000\n",
       "Micronesian Region    3.388889\n",
       "Middle Africa         2.157895\n",
       "Northern Africa       2.304120\n",
       "Northern America      4.625277\n",
       "Northern Europe       2.638154\n",
       "Polynesia             4.125000\n",
       "South America         2.972515\n",
       "Southeast Asia        2.641912\n",
       "Southern Africa       2.340111\n",
       "Southern Asia         2.656901\n",
       "Southern Europe       2.751930\n",
       "Western Africa        2.130015\n",
       "Western Asia          2.466067\n",
       "Western Europe        2.855529\n",
       "Name: TARGET, dtype: float64"
      ]
     },
     "execution_count": 41,
     "metadata": {},
     "output_type": "execute_result"
    }
   ],
   "source": [
    "df.groupby('subcontinent')['TARGET'].mean()"
   ]
  },
  {
   "cell_type": "code",
   "execution_count": 42,
   "id": "7ed62bb5-db3b-4e47-ba67-8f6328dc4f58",
   "metadata": {},
   "outputs": [],
   "source": [
    "os_counts = df['OS'].value_counts()\n",
    "\n",
    "# 빈도수가 10개 이하인 값을 필터링하여 DataFrame 수정\n",
    "df = df[df['OS'].isin(os_counts[os_counts > 10].index)]"
   ]
  },
  {
   "cell_type": "code",
   "execution_count": 43,
   "id": "4c986cb5-4944-45bc-8803-7966e5c3f59c",
   "metadata": {},
   "outputs": [
    {
     "data": {
      "text/plain": [
       "OS\n",
       "Windows          88109\n",
       "Macintosh        60315\n",
       "Android          51867\n",
       "iOS              29775\n",
       "Linux             9559\n",
       "Chrome OS         9222\n",
       "(not set)         2578\n",
       "Tizen              321\n",
       "Samsung            259\n",
       "Windows Phone      126\n",
       "OS/2                36\n",
       "Xbox                31\n",
       "BlackBerry          29\n",
       "Name: count, dtype: int64"
      ]
     },
     "execution_count": 43,
     "metadata": {},
     "output_type": "execute_result"
    }
   ],
   "source": [
    "df['OS'].value_counts()"
   ]
  },
  {
   "cell_type": "code",
   "execution_count": 44,
   "id": "c619a497-0dd4-4a1c-9744-ab167a847001",
   "metadata": {},
   "outputs": [],
   "source": [
    "df['traffic_source'] = df['traffic_source'].apply(lambda x: 'google' if 'google' in x else x)"
   ]
  },
  {
   "cell_type": "code",
   "execution_count": 45,
   "id": "43aedce1-354f-41c6-95e4-ee820be775db",
   "metadata": {},
   "outputs": [],
   "source": [
    "df_test['traffic_source'] = df_test['traffic_source'].apply(lambda x: 'google' if 'google' in x else x)"
   ]
  },
  {
   "cell_type": "code",
   "execution_count": 46,
   "id": "50988d7c-2212-456c-95da-109b25639248",
   "metadata": {},
   "outputs": [
    {
     "data": {
      "text/plain": [
       "traffic_source\n",
       "google                     129276\n",
       "(direct)                    59007\n",
       "youtube.com                 52838\n",
       "Partners                     5366\n",
       "bing                          704\n",
       "                            ...  \n",
       "kidrex.org                      1\n",
       "mail1.swic.edu                  1\n",
       "lisham-web.blogspot.com         1\n",
       "de.wow.com                      1\n",
       "search.snapdo.com               1\n",
       "Name: count, Length: 108, dtype: int64"
      ]
     },
     "execution_count": 46,
     "metadata": {},
     "output_type": "execute_result"
    }
   ],
   "source": [
    "df['traffic_source'].value_counts()"
   ]
  },
  {
   "cell_type": "code",
   "execution_count": 47,
   "id": "685b966e-8d81-48f7-8c2d-74cc40b7bdb3",
   "metadata": {},
   "outputs": [],
   "source": [
    "traffic_counts = df['traffic_source'].value_counts()\n",
    "\n",
    "# 빈도수가 10개 이하인 값을 필터링하여 DataFrame 수정\n",
    "df = df[df['traffic_source'].isin(traffic_counts[traffic_counts > 10].index)]"
   ]
  },
  {
   "cell_type": "code",
   "execution_count": 48,
   "id": "d56c9b47-886f-47ca-b88b-028ae64d3589",
   "metadata": {},
   "outputs": [],
   "source": [
    "def traffic_total(x):\n",
    "    if 'yahoo' in x:\n",
    "        return 'yahoo'\n",
    "    if 'facebook' in x:\n",
    "        return 'facebook'\n",
    "    if 'baidu' in x:\n",
    "        return 'baidu'\n",
    "    else:\n",
    "        return x"
   ]
  },
  {
   "cell_type": "code",
   "execution_count": 49,
   "id": "c23c736c-3600-44ba-b3e8-ec6f3ed9e4c1",
   "metadata": {},
   "outputs": [],
   "source": [
    "df['traffic_source'] = df['traffic_source'].apply(lambda x: traffic_total(x))"
   ]
  },
  {
   "cell_type": "code",
   "execution_count": 50,
   "id": "05020522-d8a6-46f8-8aba-bff2b9b662c8",
   "metadata": {},
   "outputs": [],
   "source": [
    "df_test['traffic_source'] = df_test['traffic_source'].apply(lambda x: traffic_total(x))"
   ]
  },
  {
   "cell_type": "code",
   "execution_count": 51,
   "id": "dcd735d0-0c6f-40d8-b930-cf380a40afd6",
   "metadata": {
    "scrolled": true
   },
   "outputs": [
    {
     "data": {
      "text/plain": [
       "count    2.520490e+05\n",
       "mean     9.069876e+05\n",
       "std      2.128700e+07\n",
       "min      0.000000e+00\n",
       "25%      0.000000e+00\n",
       "50%      0.000000e+00\n",
       "75%      0.000000e+00\n",
       "max      3.325712e+09\n",
       "Name: transaction_revenue, dtype: float64"
      ]
     },
     "execution_count": 51,
     "metadata": {},
     "output_type": "execute_result"
    }
   ],
   "source": [
    "df['transaction_revenue'].describe()"
   ]
  },
  {
   "cell_type": "code",
   "execution_count": 52,
   "id": "b9c0a53a-2cd4-40bc-b927-aa8bb6e97db2",
   "metadata": {
    "scrolled": true
   },
   "outputs": [
    {
     "name": "stdout",
     "output_type": "stream",
     "text": [
      "TARGET의 가짓수: 117\n",
      "browser의 가짓수: 19\n",
      "OS의 가짓수: 13\n",
      "device의 가짓수: 3\n",
      "new의 가짓수: 2\n",
      "quality의 가짓수: 98\n",
      "duration의 가짓수: 2972\n",
      "bounced의 가짓수: 2\n",
      "transaction의 가짓수: 8\n",
      "transaction_revenue의 가짓수: 1218\n",
      "continent의 가짓수: 6\n",
      "subcontinent의 가짓수: 23\n",
      "country의 가짓수: 205\n",
      "traffic_source의 가짓수: 32\n",
      "traffic_medium의 가짓수: 7\n",
      "keyword의 가짓수: 620\n",
      "referral_path의 가짓수: 2\n"
     ]
    }
   ],
   "source": [
    "for each in df:\n",
    "    print(f'{each}의 가짓수:', df[each].nunique())"
   ]
  },
  {
   "cell_type": "code",
   "execution_count": 53,
   "id": "3423b8ea-0d25-4506-ba50-1ebc9553d88b",
   "metadata": {
    "scrolled": true
   },
   "outputs": [
    {
     "name": "stdout",
     "output_type": "stream",
     "text": [
      "Differences in column names:\n",
      "{'TARGET'}\n",
      "\n",
      "\n"
     ]
    }
   ],
   "source": [
    "columns_diff = set(df.columns) - set(df_test.columns)\n",
    "if columns_diff:\n",
    "    print(f\"Differences in column names:\")\n",
    "    print(columns_diff)\n",
    "    print('\\n')\n",
    "else:\n",
    "    print(\"No differences in column names.\\n\")"
   ]
  },
  {
   "cell_type": "markdown",
   "id": "8af65df5-1ae8-44f8-8171-d9e3f4245522",
   "metadata": {},
   "source": [
    "## Feature Importance를 확인해보자"
   ]
  },
  {
   "cell_type": "code",
   "execution_count": 54,
   "id": "5e10c739-30b1-4716-a2a5-b0d5b2e78829",
   "metadata": {},
   "outputs": [
    {
     "ename": "NameError",
     "evalue": "name 'X' is not defined",
     "output_type": "error",
     "traceback": [
      "\u001b[1;31m---------------------------------------------------------------------------\u001b[0m",
      "\u001b[1;31mNameError\u001b[0m                                 Traceback (most recent call last)",
      "Cell \u001b[1;32mIn[54], line 1\u001b[0m\n\u001b[1;32m----> 1\u001b[0m X[\u001b[38;5;124m'\u001b[39m\u001b[38;5;124mkeyword\u001b[39m\u001b[38;5;124m'\u001b[39m] \u001b[38;5;241m=\u001b[39m \u001b[43mX\u001b[49m[\u001b[38;5;124m'\u001b[39m\u001b[38;5;124mkeyword\u001b[39m\u001b[38;5;124m'\u001b[39m]\u001b[38;5;241m.\u001b[39mapply(\u001b[38;5;28;01mlambda\u001b[39;00m x: \u001b[38;5;241m1\u001b[39m \u001b[38;5;28;01mif\u001b[39;00m x \u001b[38;5;241m!=\u001b[39m \u001b[38;5;241m0\u001b[39m \u001b[38;5;28;01melse\u001b[39;00m \u001b[38;5;241m0\u001b[39m)\n",
      "\u001b[1;31mNameError\u001b[0m: name 'X' is not defined"
     ]
    }
   ],
   "source": [
    "X['keyword'] = X['keyword'].apply(lambda x: 1 if x != 0 else 0)"
   ]
  },
  {
   "cell_type": "code",
   "execution_count": 56,
   "id": "837ce4b9-a9a5-4265-8053-c3082f11385d",
   "metadata": {},
   "outputs": [],
   "source": [
    "from sklearn.ensemble import RandomForestRegressor\n",
    "from sklearn.preprocessing import LabelEncoder\n",
    "from sklearn.metrics import mean_squared_error\n",
    "X = df.drop(['TARGET', 'country'], axis=1)\n",
    "X['keyword'] = X['keyword'].apply(lambda x: 1 if x != 0 else 0)\n",
    "df_test['keyword'] = df_test['keyword'].apply(lambda x: 1 if x != 0 else 0)\n",
    "X_test = df_test.drop('country', axis=1)\n",
    "\n",
    "encoding_target = list(X.dtypes[X.dtypes == \"object\"].index)\n",
    "\n",
    "for i in encoding_target:\n",
    "    le = LabelEncoder()\n",
    "    le.fit(X[i])\n",
    "    X[i] = le.transform(X[i])\n",
    "    \n",
    "    # test 데이터의 새로운 카테고리에 대해 le.classes_ 배열에 추가\n",
    "    # test 데이터에 대해서 직접적으로 fit을 수행할 경우 Data Leakage\n",
    "    for case in np.unique(X_test[i]):\n",
    "        if case not in le.classes_: \n",
    "            le.classes_ = np.append(le.classes_, case) \n",
    "    \n",
    "    X_test[i] = le.transform(X_test[i])\n",
    "y = df['TARGET']\n"
   ]
  },
  {
   "cell_type": "code",
   "execution_count": 57,
   "id": "ef1a3612-fb56-471e-be22-920ff7600cd2",
   "metadata": {
    "scrolled": true
   },
   "outputs": [
    {
     "name": "stdout",
     "output_type": "stream",
     "text": [
      "<class 'pandas.core.frame.DataFrame'>\n",
      "RangeIndex: 79786 entries, 0 to 79785\n",
      "Data columns (total 16 columns):\n",
      " #   Column               Non-Null Count  Dtype  \n",
      "---  ------               --------------  -----  \n",
      " 0   browser              79786 non-null  object \n",
      " 1   OS                   79786 non-null  object \n",
      " 2   device               79786 non-null  object \n",
      " 3   new                  79786 non-null  int64  \n",
      " 4   quality              79786 non-null  float64\n",
      " 5   duration             79786 non-null  float64\n",
      " 6   bounced              79786 non-null  int64  \n",
      " 7   transaction          79786 non-null  float64\n",
      " 8   transaction_revenue  79786 non-null  float64\n",
      " 9   continent            79786 non-null  object \n",
      " 10  subcontinent         79786 non-null  object \n",
      " 11  country              79786 non-null  object \n",
      " 12  traffic_source       79786 non-null  object \n",
      " 13  traffic_medium       79786 non-null  object \n",
      " 14  keyword              79786 non-null  int64  \n",
      " 15  referral_path        79786 non-null  int64  \n",
      "dtypes: float64(4), int64(4), object(8)\n",
      "memory usage: 9.7+ MB\n"
     ]
    }
   ],
   "source": [
    "df_test.info()"
   ]
  },
  {
   "cell_type": "code",
   "execution_count": 58,
   "id": "fd36f1fe-1645-44b3-990e-4794ef774a94",
   "metadata": {},
   "outputs": [],
   "source": [
    "categorical_features = list(X.dtypes[X.dtypes == \"object\"].index)\n",
    "\n",
    "for i in categorical_features:\n",
    "    count = X[i].nunique()  # 고유값의 개수를 계산\n",
    "    print(f\"{i}: {count}\")"
   ]
  },
  {
   "cell_type": "code",
   "execution_count": 59,
   "id": "9dbccc92-e8ea-4962-b4fd-6c6d2ecb0395",
   "metadata": {
    "scrolled": true
   },
   "outputs": [
    {
     "name": "stdout",
     "output_type": "stream",
     "text": [
      "No differences in column names.\n",
      "\n"
     ]
    }
   ],
   "source": [
    "columns_diff = set(X.columns) - set(X_test.columns)\n",
    "if columns_diff:\n",
    "    print(f\"Differences in column names:\")\n",
    "    print(columns_diff)\n",
    "    print('\\n')\n",
    "else:\n",
    "    print(\"No differences in column names.\\n\")"
   ]
  },
  {
   "cell_type": "code",
   "execution_count": 60,
   "id": "5c8e3822-9822-4e64-8032-87034c2afed5",
   "metadata": {},
   "outputs": [],
   "source": [
    "X_train = X.drop(columns=list(columns_diff), errors='ignore')"
   ]
  },
  {
   "cell_type": "markdown",
   "id": "123873d0-438d-4128-86cf-a935e0c5aa50",
   "metadata": {},
   "source": [
    "## RandomForestRegressor\n",
    "\n",
    "* 결과: 3.09"
   ]
  },
  {
   "cell_type": "code",
   "execution_count": 61,
   "id": "0055b046-3e07-4bde-8ba1-398692239beb",
   "metadata": {},
   "outputs": [],
   "source": [
    "# RandomForest 모델 생성\n",
    "rf_model = RandomForestRegressor()\n",
    "rf_model.fit(X_train, y)\n",
    "pred_rf = rf_model.predict(X_test)\n",
    "# Feature Importance 확인\n",
    "feature_importances = rf_model.feature_importances_"
   ]
  },
  {
   "cell_type": "code",
   "execution_count": 62,
   "id": "324bea0f-03e0-40e5-bb5f-651badfcce32",
   "metadata": {},
   "outputs": [
    {
     "name": "stdout",
     "output_type": "stream",
     "text": [
      "quality                0.536494\n",
      "duration               0.288290\n",
      "continent              0.030628\n",
      "subcontinent           0.027338\n",
      "OS                     0.019655\n",
      "new                    0.015739\n",
      "browser                0.013843\n",
      "traffic_source         0.013797\n",
      "device                 0.013453\n",
      "transaction_revenue    0.012102\n",
      "keyword                0.009060\n",
      "traffic_medium         0.009041\n",
      "transaction            0.008322\n",
      "referral_path          0.002217\n",
      "bounced                0.000022\n",
      "dtype: float64\n"
     ]
    }
   ],
   "source": [
    "feature_importances = pd.Series(rf_model.feature_importances_, index=X.columns)\n",
    "\n",
    "# 내림차순 정렬\n",
    "sorted_feature_importances = feature_importances.sort_values(ascending=False)\n",
    "\n",
    "# 정렬된 Feature Importance 출력\n",
    "print(sorted_feature_importances)"
   ]
  },
  {
   "cell_type": "code",
   "execution_count": 63,
   "id": "9a8b66be-b7ec-4685-afd8-bab48898ca94",
   "metadata": {},
   "outputs": [
    {
     "data": {
      "text/html": [
       "<div>\n",
       "<style scoped>\n",
       "    .dataframe tbody tr th:only-of-type {\n",
       "        vertical-align: middle;\n",
       "    }\n",
       "\n",
       "    .dataframe tbody tr th {\n",
       "        vertical-align: top;\n",
       "    }\n",
       "\n",
       "    .dataframe thead th {\n",
       "        text-align: right;\n",
       "    }\n",
       "</style>\n",
       "<table border=\"1\" class=\"dataframe\">\n",
       "  <thead>\n",
       "    <tr style=\"text-align: right;\">\n",
       "      <th></th>\n",
       "      <th>sessionID</th>\n",
       "      <th>TARGET</th>\n",
       "    </tr>\n",
       "  </thead>\n",
       "  <tbody>\n",
       "    <tr>\n",
       "      <th>0</th>\n",
       "      <td>SESSION_252289</td>\n",
       "      <td>0</td>\n",
       "    </tr>\n",
       "    <tr>\n",
       "      <th>1</th>\n",
       "      <td>SESSION_252290</td>\n",
       "      <td>0</td>\n",
       "    </tr>\n",
       "    <tr>\n",
       "      <th>2</th>\n",
       "      <td>SESSION_252291</td>\n",
       "      <td>0</td>\n",
       "    </tr>\n",
       "    <tr>\n",
       "      <th>3</th>\n",
       "      <td>SESSION_252292</td>\n",
       "      <td>0</td>\n",
       "    </tr>\n",
       "    <tr>\n",
       "      <th>4</th>\n",
       "      <td>SESSION_252293</td>\n",
       "      <td>0</td>\n",
       "    </tr>\n",
       "    <tr>\n",
       "      <th>...</th>\n",
       "      <td>...</td>\n",
       "      <td>...</td>\n",
       "    </tr>\n",
       "    <tr>\n",
       "      <th>79781</th>\n",
       "      <td>SESSION_332070</td>\n",
       "      <td>0</td>\n",
       "    </tr>\n",
       "    <tr>\n",
       "      <th>79782</th>\n",
       "      <td>SESSION_332071</td>\n",
       "      <td>0</td>\n",
       "    </tr>\n",
       "    <tr>\n",
       "      <th>79783</th>\n",
       "      <td>SESSION_332072</td>\n",
       "      <td>0</td>\n",
       "    </tr>\n",
       "    <tr>\n",
       "      <th>79784</th>\n",
       "      <td>SESSION_332073</td>\n",
       "      <td>0</td>\n",
       "    </tr>\n",
       "    <tr>\n",
       "      <th>79785</th>\n",
       "      <td>SESSION_332074</td>\n",
       "      <td>0</td>\n",
       "    </tr>\n",
       "  </tbody>\n",
       "</table>\n",
       "<p>79786 rows × 2 columns</p>\n",
       "</div>"
      ],
      "text/plain": [
       "            sessionID  TARGET\n",
       "0      SESSION_252289       0\n",
       "1      SESSION_252290       0\n",
       "2      SESSION_252291       0\n",
       "3      SESSION_252292       0\n",
       "4      SESSION_252293       0\n",
       "...               ...     ...\n",
       "79781  SESSION_332070       0\n",
       "79782  SESSION_332071       0\n",
       "79783  SESSION_332072       0\n",
       "79784  SESSION_332073       0\n",
       "79785  SESSION_332074       0\n",
       "\n",
       "[79786 rows x 2 columns]"
      ]
     },
     "execution_count": 63,
     "metadata": {},
     "output_type": "execute_result"
    }
   ],
   "source": [
    "submission = pd.read_csv('./sample_submission.csv')\n",
    "submission"
   ]
  },
  {
   "cell_type": "code",
   "execution_count": 64,
   "id": "92d73989-0564-4ba5-941c-40d508e5ca45",
   "metadata": {},
   "outputs": [
    {
     "data": {
      "text/html": [
       "<div>\n",
       "<style scoped>\n",
       "    .dataframe tbody tr th:only-of-type {\n",
       "        vertical-align: middle;\n",
       "    }\n",
       "\n",
       "    .dataframe tbody tr th {\n",
       "        vertical-align: top;\n",
       "    }\n",
       "\n",
       "    .dataframe thead th {\n",
       "        text-align: right;\n",
       "    }\n",
       "</style>\n",
       "<table border=\"1\" class=\"dataframe\">\n",
       "  <thead>\n",
       "    <tr style=\"text-align: right;\">\n",
       "      <th></th>\n",
       "      <th>sessionID</th>\n",
       "      <th>TARGET</th>\n",
       "    </tr>\n",
       "  </thead>\n",
       "  <tbody>\n",
       "    <tr>\n",
       "      <th>0</th>\n",
       "      <td>SESSION_252289</td>\n",
       "      <td>22.700000</td>\n",
       "    </tr>\n",
       "    <tr>\n",
       "      <th>1</th>\n",
       "      <td>SESSION_252290</td>\n",
       "      <td>1.000000</td>\n",
       "    </tr>\n",
       "    <tr>\n",
       "      <th>2</th>\n",
       "      <td>SESSION_252291</td>\n",
       "      <td>1.670071</td>\n",
       "    </tr>\n",
       "    <tr>\n",
       "      <th>3</th>\n",
       "      <td>SESSION_252292</td>\n",
       "      <td>3.565008</td>\n",
       "    </tr>\n",
       "    <tr>\n",
       "      <th>4</th>\n",
       "      <td>SESSION_252293</td>\n",
       "      <td>12.140000</td>\n",
       "    </tr>\n",
       "    <tr>\n",
       "      <th>...</th>\n",
       "      <td>...</td>\n",
       "      <td>...</td>\n",
       "    </tr>\n",
       "    <tr>\n",
       "      <th>79781</th>\n",
       "      <td>SESSION_332070</td>\n",
       "      <td>1.000000</td>\n",
       "    </tr>\n",
       "    <tr>\n",
       "      <th>79782</th>\n",
       "      <td>SESSION_332071</td>\n",
       "      <td>1.000000</td>\n",
       "    </tr>\n",
       "    <tr>\n",
       "      <th>79783</th>\n",
       "      <td>SESSION_332072</td>\n",
       "      <td>2.831667</td>\n",
       "    </tr>\n",
       "    <tr>\n",
       "      <th>79784</th>\n",
       "      <td>SESSION_332073</td>\n",
       "      <td>4.506579</td>\n",
       "    </tr>\n",
       "    <tr>\n",
       "      <th>79785</th>\n",
       "      <td>SESSION_332074</td>\n",
       "      <td>1.000000</td>\n",
       "    </tr>\n",
       "  </tbody>\n",
       "</table>\n",
       "<p>79786 rows × 2 columns</p>\n",
       "</div>"
      ],
      "text/plain": [
       "            sessionID     TARGET\n",
       "0      SESSION_252289  22.700000\n",
       "1      SESSION_252290   1.000000\n",
       "2      SESSION_252291   1.670071\n",
       "3      SESSION_252292   3.565008\n",
       "4      SESSION_252293  12.140000\n",
       "...               ...        ...\n",
       "79781  SESSION_332070   1.000000\n",
       "79782  SESSION_332071   1.000000\n",
       "79783  SESSION_332072   2.831667\n",
       "79784  SESSION_332073   4.506579\n",
       "79785  SESSION_332074   1.000000\n",
       "\n",
       "[79786 rows x 2 columns]"
      ]
     },
     "execution_count": 64,
     "metadata": {},
     "output_type": "execute_result"
    }
   ],
   "source": [
    "submission['TARGET'] = pred_rf\n",
    "submission"
   ]
  },
  {
   "cell_type": "code",
   "execution_count": 65,
   "id": "700bf645-8fa6-4397-8c8b-594fc655e716",
   "metadata": {},
   "outputs": [],
   "source": [
    "submission.to_csv('./rf_submission.csv', index=False)"
   ]
  },
  {
   "cell_type": "markdown",
   "id": "88599ae4-6926-46b0-8e78-6ab8911fe9c0",
   "metadata": {},
   "source": [
    "## CatBoostRegressor\n",
    "\n",
    "* 결과: 2.98"
   ]
  },
  {
   "cell_type": "code",
   "execution_count": 66,
   "id": "6aed7be1-be08-4772-acae-4dbfc2dd54f4",
   "metadata": {},
   "outputs": [],
   "source": [
    "from catboost import CatBoostRegressor\n",
    "from sklearn.model_selection import train_test_split\n",
    "from sklearn.metrics import mean_squared_error\n",
    "\n",
    "X = df.drop(['TARGET', 'country'], axis=1)\n",
    "X['keyword'] = X['keyword'].apply(lambda x: 1 if x != 0 else 0)\n",
    "\n",
    "X_test = df_test.drop(['country'], axis=1)\n",
    "\n",
    "encoding_target = list(X.dtypes[X.dtypes == \"object\"].index)\n",
    "\n",
    "for i in encoding_target:\n",
    "    le = LabelEncoder()\n",
    "    le.fit(X[i])\n",
    "    X[i] = le.transform(X[i])\n",
    "    \n",
    "    # test 데이터의 새로운 카테고리에 대해 le.classes_ 배열에 추가\n",
    "    # test 데이터에 대해서 직접적으로 fit을 수행할 경우 Data Leakage\n",
    "    for case in np.unique(X_test[i]):\n",
    "        if case not in le.classes_: \n",
    "            le.classes_ = np.append(le.classes_, case) \n",
    "    \n",
    "    X_test[i] = le.transform(X_test[i])\n",
    "y = df['TARGET']"
   ]
  },
  {
   "cell_type": "code",
   "execution_count": 67,
   "id": "c8ba89a7-89a8-4198-8560-08b3c6158648",
   "metadata": {},
   "outputs": [
    {
     "name": "stdout",
     "output_type": "stream",
     "text": [
      "0:\tlearn: 5.1707148\ttotal: 253ms\tremaining: 4m 12s\n",
      "100:\tlearn: 2.7054921\ttotal: 8.8s\tremaining: 1m 18s\n",
      "200:\tlearn: 2.6047976\ttotal: 17.2s\tremaining: 1m 8s\n",
      "300:\tlearn: 2.5440837\ttotal: 25.6s\tremaining: 59.5s\n",
      "400:\tlearn: 2.4876631\ttotal: 34s\tremaining: 50.8s\n",
      "500:\tlearn: 2.4447621\ttotal: 42.9s\tremaining: 42.7s\n",
      "600:\tlearn: 2.4110028\ttotal: 51.9s\tremaining: 34.5s\n",
      "700:\tlearn: 2.3765538\ttotal: 1m\tremaining: 25.6s\n",
      "800:\tlearn: 2.3529262\ttotal: 1m 9s\tremaining: 17.1s\n",
      "900:\tlearn: 2.3370359\ttotal: 1m 17s\tremaining: 8.54s\n",
      "999:\tlearn: 2.3225490\ttotal: 1m 26s\tremaining: 0us\n"
     ]
    }
   ],
   "source": [
    "catboost_model = CatBoostRegressor(iterations=1000, depth=6, learning_rate=0.1, loss_function='RMSE', random_seed=42)\n",
    "catboost_model.fit(X, y, cat_features=encoding_target, early_stopping_rounds=50, verbose=100)\n",
    "\n",
    "# 예측\n",
    "y_pred = catboost_model.predict(X_test)\n"
   ]
  },
  {
   "cell_type": "code",
   "execution_count": 68,
   "id": "f83a4163-294d-4952-832c-8c4577f9ae5d",
   "metadata": {},
   "outputs": [],
   "source": [
    "# RandomForest 모델 생성\n",
    "rf_model = RandomForestRegressor()\n",
    "rf_model.fit(X, y)\n",
    "pred_rf = rf_model.predict(X_test)\n",
    "# Feature Importance 확인\n",
    "feature_importances = rf_model.feature_importances_"
   ]
  },
  {
   "cell_type": "code",
   "execution_count": 69,
   "id": "63aac310-863d-4dc8-bd46-af82d973aa84",
   "metadata": {},
   "outputs": [
    {
     "name": "stdout",
     "output_type": "stream",
     "text": [
      "quality                0.536151\n",
      "duration               0.289954\n",
      "continent              0.030731\n",
      "subcontinent           0.027138\n",
      "OS                     0.019427\n",
      "new                    0.015663\n",
      "traffic_source         0.014033\n",
      "device                 0.013556\n",
      "browser                0.013314\n",
      "transaction_revenue    0.011643\n",
      "traffic_medium         0.009198\n",
      "keyword                0.008481\n",
      "transaction            0.008471\n",
      "referral_path          0.002170\n",
      "bounced                0.000071\n",
      "dtype: float64\n"
     ]
    }
   ],
   "source": [
    "feature_importances = pd.Series(rf_model.feature_importances_, index=X.columns)\n",
    "\n",
    "# 내림차순 정렬\n",
    "sorted_feature_importances = feature_importances.sort_values(ascending=False)\n",
    "\n",
    "# 정렬된 Feature Importance 출력\n",
    "print(sorted_feature_importances)"
   ]
  },
  {
   "cell_type": "code",
   "execution_count": 70,
   "id": "8d91c932-fae9-4538-9bb1-b1cd0af14974",
   "metadata": {},
   "outputs": [],
   "source": [
    "submission['TARGET'] = pred_rf\n",
    "submission.to_csv('./rf2_submission.csv', index=False)"
   ]
  },
  {
   "cell_type": "code",
   "execution_count": 71,
   "id": "633be0eb-6ace-4c24-9afe-f73bc6e8af69",
   "metadata": {},
   "outputs": [],
   "source": [
    "submission['TARGET'] = y_pred\n",
    "submission.to_csv('./cat_submission.csv', index=False)"
   ]
  },
  {
   "cell_type": "code",
   "execution_count": 72,
   "id": "9d4440e8-f396-46fa-b5be-7f55dae4cc9a",
   "metadata": {},
   "outputs": [
    {
     "name": "stdout",
     "output_type": "stream",
     "text": [
      "GradientBoostingRegressor: Best Parameters - {'learning_rate': 0.1, 'max_depth': 4, 'n_estimators': 200}\n",
      "Lasso: Best Parameters - {'alpha': 0.01}\n",
      "LinearRegression: Best Parameters - {}\n",
      "XGBRegressor: Best Parameters - {'learning_rate': 0.1, 'max_depth': 5, 'n_estimators': 100}\n"
     ]
    }
   ],
   "source": [
    "from sklearn.model_selection import GridSearchCV\n",
    "from sklearn.ensemble import GradientBoostingRegressor\n",
    "from sklearn.linear_model import Lasso, LinearRegression\n",
    "from xgboost import XGBRegressor\n",
    "from sklearn.metrics import mean_squared_error\n",
    "from math import sqrt\n",
    "# 모델 리스트\n",
    "models = [\n",
    "    ('GradientBoostingRegressor', GradientBoostingRegressor(), {\n",
    "        'n_estimators': [50, 100, 200],\n",
    "        'learning_rate': [0.01, 0.1, 0.2],\n",
    "        'max_depth': [3, 4, 5]\n",
    "    }),\n",
    "    ('Lasso', Lasso(), {\n",
    "        'alpha': [0.001, 0.01, 0.1, 1.0]\n",
    "    }),\n",
    "    ('LinearRegression', LinearRegression(), {}),\n",
    "    ('XGBRegressor', XGBRegressor(), {\n",
    "        'n_estimators': [50, 100, 200],\n",
    "        'learning_rate': [0.01, 0.1, 0.2],\n",
    "        'max_depth': [3, 4, 5]\n",
    "    })\n",
    "]\n",
    "\n",
    "# 예측값 저장을 위한 데이터프레임 생성\n",
    "predictions_df = pd.DataFrame()\n",
    "\n",
    "# 모델 선택 및 튜닝\n",
    "for model_name, model, param_grid in models:\n",
    "    grid_search = GridSearchCV(model, param_grid, scoring='neg_mean_squared_error', cv=5)\n",
    "    grid_search.fit(X_train, y)\n",
    "    \n",
    "    # 최적의 모델 및 파라미터 출력\n",
    "    print(f\"{model_name}: Best Parameters - {grid_search.best_params_}\")\n",
    "\n",
    "    # 테스트 데이터에 모델 적용 및 예측값 저장\n",
    "    y_pred = grid_search.predict(X_test)\n",
    "    predictions_df[model_name] = y_pred"
   ]
  },
  {
   "cell_type": "code",
   "execution_count": 73,
   "id": "3f0b87f5-c395-4677-b318-1a4a9466c3c7",
   "metadata": {},
   "outputs": [
    {
     "data": {
      "text/html": [
       "<div>\n",
       "<style scoped>\n",
       "    .dataframe tbody tr th:only-of-type {\n",
       "        vertical-align: middle;\n",
       "    }\n",
       "\n",
       "    .dataframe tbody tr th {\n",
       "        vertical-align: top;\n",
       "    }\n",
       "\n",
       "    .dataframe thead th {\n",
       "        text-align: right;\n",
       "    }\n",
       "</style>\n",
       "<table border=\"1\" class=\"dataframe\">\n",
       "  <thead>\n",
       "    <tr style=\"text-align: right;\">\n",
       "      <th></th>\n",
       "      <th>GradientBoostingRegressor</th>\n",
       "      <th>Lasso</th>\n",
       "      <th>LinearRegression</th>\n",
       "      <th>XGBRegressor</th>\n",
       "    </tr>\n",
       "  </thead>\n",
       "  <tbody>\n",
       "    <tr>\n",
       "      <th>0</th>\n",
       "      <td>22.425712</td>\n",
       "      <td>23.088980</td>\n",
       "      <td>22.729175</td>\n",
       "      <td>23.229046</td>\n",
       "    </tr>\n",
       "    <tr>\n",
       "      <th>1</th>\n",
       "      <td>1.011364</td>\n",
       "      <td>0.980087</td>\n",
       "      <td>0.991305</td>\n",
       "      <td>1.004129</td>\n",
       "    </tr>\n",
       "    <tr>\n",
       "      <th>2</th>\n",
       "      <td>2.805629</td>\n",
       "      <td>3.777926</td>\n",
       "      <td>3.798509</td>\n",
       "      <td>2.733693</td>\n",
       "    </tr>\n",
       "    <tr>\n",
       "      <th>3</th>\n",
       "      <td>4.315431</td>\n",
       "      <td>4.641307</td>\n",
       "      <td>4.721083</td>\n",
       "      <td>4.281978</td>\n",
       "    </tr>\n",
       "    <tr>\n",
       "      <th>4</th>\n",
       "      <td>12.689715</td>\n",
       "      <td>5.839613</td>\n",
       "      <td>5.877080</td>\n",
       "      <td>12.140450</td>\n",
       "    </tr>\n",
       "    <tr>\n",
       "      <th>...</th>\n",
       "      <td>...</td>\n",
       "      <td>...</td>\n",
       "      <td>...</td>\n",
       "      <td>...</td>\n",
       "    </tr>\n",
       "    <tr>\n",
       "      <th>79781</th>\n",
       "      <td>1.032623</td>\n",
       "      <td>1.048194</td>\n",
       "      <td>1.164320</td>\n",
       "      <td>1.017867</td>\n",
       "    </tr>\n",
       "    <tr>\n",
       "      <th>79782</th>\n",
       "      <td>1.048117</td>\n",
       "      <td>1.383427</td>\n",
       "      <td>1.375584</td>\n",
       "      <td>1.018384</td>\n",
       "    </tr>\n",
       "    <tr>\n",
       "      <th>79783</th>\n",
       "      <td>2.779208</td>\n",
       "      <td>4.632874</td>\n",
       "      <td>4.706506</td>\n",
       "      <td>2.710551</td>\n",
       "    </tr>\n",
       "    <tr>\n",
       "      <th>79784</th>\n",
       "      <td>5.114735</td>\n",
       "      <td>4.921973</td>\n",
       "      <td>4.987270</td>\n",
       "      <td>5.037055</td>\n",
       "    </tr>\n",
       "    <tr>\n",
       "      <th>79785</th>\n",
       "      <td>1.070131</td>\n",
       "      <td>1.483725</td>\n",
       "      <td>1.529927</td>\n",
       "      <td>1.048552</td>\n",
       "    </tr>\n",
       "  </tbody>\n",
       "</table>\n",
       "<p>79786 rows × 4 columns</p>\n",
       "</div>"
      ],
      "text/plain": [
       "       GradientBoostingRegressor      Lasso  LinearRegression  XGBRegressor\n",
       "0                      22.425712  23.088980         22.729175     23.229046\n",
       "1                       1.011364   0.980087          0.991305      1.004129\n",
       "2                       2.805629   3.777926          3.798509      2.733693\n",
       "3                       4.315431   4.641307          4.721083      4.281978\n",
       "4                      12.689715   5.839613          5.877080     12.140450\n",
       "...                          ...        ...               ...           ...\n",
       "79781                   1.032623   1.048194          1.164320      1.017867\n",
       "79782                   1.048117   1.383427          1.375584      1.018384\n",
       "79783                   2.779208   4.632874          4.706506      2.710551\n",
       "79784                   5.114735   4.921973          4.987270      5.037055\n",
       "79785                   1.070131   1.483725          1.529927      1.048552\n",
       "\n",
       "[79786 rows x 4 columns]"
      ]
     },
     "execution_count": 73,
     "metadata": {},
     "output_type": "execute_result"
    }
   ],
   "source": [
    "predictions_df"
   ]
  },
  {
   "cell_type": "code",
   "execution_count": 74,
   "id": "82be3c9f-d5c2-4f15-a96a-f9dec6358d3c",
   "metadata": {},
   "outputs": [],
   "source": [
    "submission['TARGET'] = predictions_df['XGBRegressor']\n",
    "submission.to_csv('./XGB_submission.csv', index=False)"
   ]
  },
  {
   "cell_type": "code",
   "execution_count": 75,
   "id": "ff00ca71-2fd4-49ab-a92b-84c2a51597e0",
   "metadata": {},
   "outputs": [],
   "source": [
    "submission['TARGET'] = predictions_df['LinearRegression']\n",
    "submission.to_csv('./lr_submission.csv', index=False)"
   ]
  },
  {
   "cell_type": "code",
   "execution_count": null,
   "id": "1365edd9-66b0-45df-8b3e-f0f7ca63120b",
   "metadata": {},
   "outputs": [],
   "source": []
  },
  {
   "cell_type": "code",
   "execution_count": null,
   "id": "a6e3ff33-ee95-4213-8f16-d80742138532",
   "metadata": {},
   "outputs": [],
   "source": []
  },
  {
   "cell_type": "code",
   "execution_count": null,
   "id": "1f9b58a3-27f1-41ce-a3cd-055864d79a09",
   "metadata": {},
   "outputs": [],
   "source": []
  },
  {
   "cell_type": "code",
   "execution_count": null,
   "id": "3f25e687-aa70-4ef5-b913-400172a3e4af",
   "metadata": {},
   "outputs": [],
   "source": []
  },
  {
   "cell_type": "code",
   "execution_count": null,
   "id": "79836afe-0afc-43b3-8f84-fe18848cdf72",
   "metadata": {},
   "outputs": [],
   "source": []
  },
  {
   "cell_type": "code",
   "execution_count": null,
   "id": "55cfaef1-2f5b-4ecc-b489-32c7549ca1b3",
   "metadata": {},
   "outputs": [],
   "source": []
  },
  {
   "cell_type": "code",
   "execution_count": null,
   "id": "f0286f8b-4c3c-4417-b084-8afb2912b3b7",
   "metadata": {},
   "outputs": [],
   "source": []
  },
  {
   "cell_type": "code",
   "execution_count": null,
   "id": "d15963be-758c-42ac-a960-5a47e835ca68",
   "metadata": {},
   "outputs": [],
   "source": []
  },
  {
   "cell_type": "code",
   "execution_count": null,
   "id": "8c6ca0c0-65b7-4b18-98f3-badcac413345",
   "metadata": {},
   "outputs": [],
   "source": []
  },
  {
   "cell_type": "code",
   "execution_count": null,
   "id": "d52d54c7-9802-4b9f-9574-43f8457d9b95",
   "metadata": {},
   "outputs": [],
   "source": []
  },
  {
   "cell_type": "code",
   "execution_count": null,
   "id": "75c4268e-4f69-4301-857d-e85a7cfdcdb4",
   "metadata": {},
   "outputs": [],
   "source": []
  }
 ],
 "metadata": {
  "kernelspec": {
   "display_name": "Python 3 (ipykernel)",
   "language": "python",
   "name": "python3"
  },
  "language_info": {
   "codemirror_mode": {
    "name": "ipython",
    "version": 3
   },
   "file_extension": ".py",
   "mimetype": "text/x-python",
   "name": "python",
   "nbconvert_exporter": "python",
   "pygments_lexer": "ipython3",
   "version": "3.9.13"
  }
 },
 "nbformat": 4,
 "nbformat_minor": 5
}
